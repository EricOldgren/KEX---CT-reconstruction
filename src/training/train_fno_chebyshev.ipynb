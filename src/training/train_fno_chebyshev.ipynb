{
 "cells": [
  {
   "cell_type": "code",
   "execution_count": 4,
   "metadata": {},
   "outputs": [
    {
     "name": "stdout",
     "output_type": "stream",
     "text": [
      "GPU support for pytorch: True\n",
      "GOU support for astra backend: True\n"
     ]
    }
   ],
   "source": [
    "import sys\n",
    "import os\n",
    "import torch\n",
    "import numpy as np\n",
    "import odl\n",
    "import astra\n",
    "import matplotlib.pyplot as plt\n",
    "\n",
    "print(\"GPU support for pytorch:\", torch.cuda.is_available())\n",
    "print(\"GOU support for astra backend:\", odl.tomo.backends.astra_cuda.ASTRA_CUDA_AVAILABLE)\n",
    "\n",
    "\n",
    "SRC_PATH = os.path.abspath(\"..\")\n",
    "if not SRC_PATH in sys.path: sys.path.append(SRC_PATH)"
   ]
  },
  {
   "cell_type": "code",
   "execution_count": 2,
   "metadata": {},
   "outputs": [
    {
     "name": "stdout",
     "output_type": "stream",
     "text": [
      "hello\n"
     ]
    }
   ],
   "source": [
    "import torch.nn as nn\n",
    "import torch.nn.functional as F\n",
    "import odl.contrib.torch as odl_torch\n",
    "\n",
    "from models.fno_chebyshev import FNO_BP_chebyshev\n",
    "from utils.geometry import Geometry, setup"
   ]
  }
 ],
 "metadata": {
  "kernelspec": {
   "display_name": "CT",
   "language": "python",
   "name": "python3"
  },
  "language_info": {
   "codemirror_mode": {
    "name": "ipython",
    "version": 3
   },
   "file_extension": ".py",
   "mimetype": "text/x-python",
   "name": "python",
   "nbconvert_exporter": "python",
   "pygments_lexer": "ipython3",
   "version": "3.10.11"
  },
  "orig_nbformat": 4
 },
 "nbformat": 4,
 "nbformat_minor": 2
}
