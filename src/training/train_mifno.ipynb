{
 "cells": [
  {
   "cell_type": "code",
   "execution_count": 1,
   "metadata": {},
   "outputs": [
    {
     "name": "stdout",
     "output_type": "stream",
     "text": [
      "/home/emastr/deep-limited-angle/KEX---CT-reconstruction\n"
     ]
    }
   ],
   "source": [
    "from pathlib import Path\n",
    "import sys\n",
    "GIT_ROOT = Path(\"../..\").resolve()\n",
    "print(GIT_ROOT)\n",
    "SRC = GIT_ROOT / \"src\"\n",
    "if not str(SRC) in sys.path:\n",
    "    sys.path.append(str((SRC)))\n",
    "import torch\n",
    "\n",
    "\n",
    "from utils.tools import DEVICE, DTYPE\n",
    "from utils.data import get_htc2022_train_phantoms, get_htclike_train_phantoms\n",
    "from utils.polynomials import Legendre, Chebyshev\n",
    "from geometries import HTC2022_GEOMETRY\n",
    "\n",
    "from models.modelbase import plot_model_progress, evaluate_batches\n",
    "from models.FNOBPs.mifno_bp import IterativePjectingFNO\n"
   ]
  },
  {
   "cell_type": "code",
   "execution_count": 4,
   "metadata": {},
   "outputs": [
    {
     "name": "stdout",
     "output_type": "stream",
     "text": [
      "Epoch 1 loss: 1303.0601806640625 recon loss: 0.1995367629826223\n",
      "Epoch 2 loss: nan recon loss: nan\n",
      "Epoch 3 loss: nan recon loss: nan\n"
     ]
    },
    {
     "ename": "KeyboardInterrupt",
     "evalue": "",
     "output_type": "error",
     "traceback": [
      "\u001b[0;31m---------------------------------------------------------------------------\u001b[0m",
      "\u001b[0;31mKeyboardInterrupt\u001b[0m                         Traceback (most recent call last)",
      "\u001b[1;32m/home/emastr/deep-limited-angle/KEX---CT-reconstruction/src/training/train_mifno.ipynb Cell 2\u001b[0m in \u001b[0;36m<cell line: 15>\u001b[0;34m()\u001b[0m\n\u001b[1;32m     <a href='vscode-notebook-cell://ssh-remote%2Bshepp.math.kth.se/home/emastr/deep-limited-angle/KEX---CT-reconstruction/src/training/train_mifno.ipynb#W1sdnNjb2RlLXJlbW90ZQ%3D%3D?line=31'>32</a>\u001b[0m recon_loss \u001b[39m=\u001b[39m torch\u001b[39m.\u001b[39mmean((recons\u001b[39m-\u001b[39mphantom_batch)\u001b[39m*\u001b[39m\u001b[39m*\u001b[39m\u001b[39m2\u001b[39m)\n\u001b[1;32m     <a href='vscode-notebook-cell://ssh-remote%2Bshepp.math.kth.se/home/emastr/deep-limited-angle/KEX---CT-reconstruction/src/training/train_mifno.ipynb#W1sdnNjb2RlLXJlbW90ZQ%3D%3D?line=32'>33</a>\u001b[0m loss \u001b[39m+\u001b[39m\u001b[39m=\u001b[39m recon_loss\n\u001b[0;32m---> <a href='vscode-notebook-cell://ssh-remote%2Bshepp.math.kth.se/home/emastr/deep-limited-angle/KEX---CT-reconstruction/src/training/train_mifno.ipynb#W1sdnNjb2RlLXJlbW90ZQ%3D%3D?line=33'>34</a>\u001b[0m loss\u001b[39m.\u001b[39;49mbackward()\n\u001b[1;32m     <a href='vscode-notebook-cell://ssh-remote%2Bshepp.math.kth.se/home/emastr/deep-limited-angle/KEX---CT-reconstruction/src/training/train_mifno.ipynb#W1sdnNjb2RlLXJlbW90ZQ%3D%3D?line=34'>35</a>\u001b[0m optimizer\u001b[39m.\u001b[39mstep()\n\u001b[1;32m     <a href='vscode-notebook-cell://ssh-remote%2Bshepp.math.kth.se/home/emastr/deep-limited-angle/KEX---CT-reconstruction/src/training/train_mifno.ipynb#W1sdnNjb2RlLXJlbW90ZQ%3D%3D?line=36'>37</a>\u001b[0m batch_losses\u001b[39m.\u001b[39mappend(loss\u001b[39m.\u001b[39mitem())\n",
      "File \u001b[0;32m~/anaconda3/envs/odl_torch/lib/python3.9/site-packages/torch/_tensor.py:363\u001b[0m, in \u001b[0;36mTensor.backward\u001b[0;34m(self, gradient, retain_graph, create_graph, inputs)\u001b[0m\n\u001b[1;32m    354\u001b[0m \u001b[39mif\u001b[39;00m has_torch_function_unary(\u001b[39mself\u001b[39m):\n\u001b[1;32m    355\u001b[0m     \u001b[39mreturn\u001b[39;00m handle_torch_function(\n\u001b[1;32m    356\u001b[0m         Tensor\u001b[39m.\u001b[39mbackward,\n\u001b[1;32m    357\u001b[0m         (\u001b[39mself\u001b[39m,),\n\u001b[0;32m   (...)\u001b[0m\n\u001b[1;32m    361\u001b[0m         create_graph\u001b[39m=\u001b[39mcreate_graph,\n\u001b[1;32m    362\u001b[0m         inputs\u001b[39m=\u001b[39minputs)\n\u001b[0;32m--> 363\u001b[0m torch\u001b[39m.\u001b[39;49mautograd\u001b[39m.\u001b[39;49mbackward(\u001b[39mself\u001b[39;49m, gradient, retain_graph, create_graph, inputs\u001b[39m=\u001b[39;49minputs)\n",
      "File \u001b[0;32m~/anaconda3/envs/odl_torch/lib/python3.9/site-packages/torch/autograd/__init__.py:173\u001b[0m, in \u001b[0;36mbackward\u001b[0;34m(tensors, grad_tensors, retain_graph, create_graph, grad_variables, inputs)\u001b[0m\n\u001b[1;32m    168\u001b[0m     retain_graph \u001b[39m=\u001b[39m create_graph\n\u001b[1;32m    170\u001b[0m \u001b[39m# The reason we repeat same the comment below is that\u001b[39;00m\n\u001b[1;32m    171\u001b[0m \u001b[39m# some Python versions print out the first line of a multi-line function\u001b[39;00m\n\u001b[1;32m    172\u001b[0m \u001b[39m# calls in the traceback and some print out the last line\u001b[39;00m\n\u001b[0;32m--> 173\u001b[0m Variable\u001b[39m.\u001b[39;49m_execution_engine\u001b[39m.\u001b[39;49mrun_backward(  \u001b[39m# Calls into the C++ engine to run the backward pass\u001b[39;49;00m\n\u001b[1;32m    174\u001b[0m     tensors, grad_tensors_, retain_graph, create_graph, inputs,\n\u001b[1;32m    175\u001b[0m     allow_unreachable\u001b[39m=\u001b[39;49m\u001b[39mTrue\u001b[39;49;00m, accumulate_grad\u001b[39m=\u001b[39;49m\u001b[39mTrue\u001b[39;49;00m)\n",
      "File \u001b[0;32m~/anaconda3/envs/odl_torch/lib/python3.9/site-packages/torch/autograd/function.py:253\u001b[0m, in \u001b[0;36mBackwardCFunction.apply\u001b[0;34m(self, *args)\u001b[0m\n\u001b[1;32m    249\u001b[0m     \u001b[39mraise\u001b[39;00m \u001b[39mRuntimeError\u001b[39;00m(\u001b[39m\"\u001b[39m\u001b[39mImplementing both \u001b[39m\u001b[39m'\u001b[39m\u001b[39mbackward\u001b[39m\u001b[39m'\u001b[39m\u001b[39m and \u001b[39m\u001b[39m'\u001b[39m\u001b[39mvjp\u001b[39m\u001b[39m'\u001b[39m\u001b[39m for a custom \u001b[39m\u001b[39m\"\u001b[39m\n\u001b[1;32m    250\u001b[0m                        \u001b[39m\"\u001b[39m\u001b[39mFunction is not allowed. You should only implement one \u001b[39m\u001b[39m\"\u001b[39m\n\u001b[1;32m    251\u001b[0m                        \u001b[39m\"\u001b[39m\u001b[39mof them.\u001b[39m\u001b[39m\"\u001b[39m)\n\u001b[1;32m    252\u001b[0m user_fn \u001b[39m=\u001b[39m vjp_fn \u001b[39mif\u001b[39;00m vjp_fn \u001b[39mis\u001b[39;00m \u001b[39mnot\u001b[39;00m Function\u001b[39m.\u001b[39mvjp \u001b[39melse\u001b[39;00m backward_fn\n\u001b[0;32m--> 253\u001b[0m \u001b[39mreturn\u001b[39;00m user_fn(\u001b[39mself\u001b[39;49m, \u001b[39m*\u001b[39;49margs)\n",
      "File \u001b[0;32m~/deep-limited-angle/KEX---CT-reconstruction/src/geometries/fanbeam_geometry/moment_operators.py:72\u001b[0m, in \u001b[0;36mMomentProjectionFunction.backward\u001b[0;34m(ctx, grad_output)\u001b[0m\n\u001b[1;32m     70\u001b[0m \u001b[39m@staticmethod\u001b[39m\n\u001b[1;32m     71\u001b[0m \u001b[39mdef\u001b[39;00m \u001b[39mbackward\u001b[39m(ctx: Any, grad_output) \u001b[39m-\u001b[39m\u001b[39m>\u001b[39m Any:\n\u001b[0;32m---> 72\u001b[0m     \u001b[39mreturn\u001b[39;00m _moment_projection(grad_output, ctx\u001b[39m.\u001b[39;49mnormalised_polynomials, ctx\u001b[39m.\u001b[39;49mW, ctx\u001b[39m.\u001b[39;49mphis2d), \u001b[39mNone\u001b[39;00m, \u001b[39mNone\u001b[39;00m, \u001b[39mNone\u001b[39;00m\n",
      "File \u001b[0;32m~/deep-limited-angle/KEX---CT-reconstruction/src/geometries/fanbeam_geometry/moment_operators.py:44\u001b[0m, in \u001b[0;36m_moment_projection\u001b[0;34m(scaled_sinos, normalised_polynomials, W, phis2d)\u001b[0m\n\u001b[1;32m     42\u001b[0m trig_out \u001b[39m*\u001b[39m\u001b[39m=\u001b[39m pn\n\u001b[1;32m     43\u001b[0m basises[\u001b[39m.\u001b[39m\u001b[39m.\u001b[39m\u001b[39m.\u001b[39m] \u001b[39m=\u001b[39m trig_out\n\u001b[0;32m---> 44\u001b[0m torch\u001b[39m.\u001b[39;49mmul(scaled_sinos, basises, out\u001b[39m=\u001b[39;49mX)\n\u001b[1;32m     45\u001b[0m projection_coeffs \u001b[39m=\u001b[39m torch\u001b[39m.\u001b[39msum(X, dim\u001b[39m=\u001b[39m(\u001b[39m-\u001b[39m\u001b[39m2\u001b[39m,\u001b[39m-\u001b[39m\u001b[39m1\u001b[39m), keepdim\u001b[39m=\u001b[39m\u001b[39mTrue\u001b[39;00m)\n\u001b[1;32m     46\u001b[0m basises \u001b[39m*\u001b[39m\u001b[39m=\u001b[39m projection_coeffs \u001b[39m/\u001b[39m (torch\u001b[39m.\u001b[39mpi)\n",
      "\u001b[0;31mKeyboardInterrupt\u001b[0m: "
     ]
    }
   ],
   "source": [
    "from statistics import mean\n",
    "\n",
    "PHANTOMS = torch.concat([get_htc2022_train_phantoms(), get_htc2022_train_phantoms()])[:2]\n",
    "geometry = HTC2022_GEOMETRY\n",
    "ar = 0.25\n",
    "SINOS = geometry.project_forward(PHANTOMS)\n",
    "\n",
    "mifno_iter = IterativePjectingFNO(geometry, 5, 15, [[40,40]]*5, Legendre.key)\n",
    "dataset = torch.utils.data.TensorDataset(PHANTOMS, SINOS)\n",
    "dataloader = torch.utils.data.DataLoader(dataset, batch_size=8, shuffle=True)\n",
    "\n",
    "optimizer = torch.optim.Adam(mifno_iter.parameters(), lr=1e-3, weight_decay=1e-6)\n",
    "n_epochs = 100\n",
    "\n",
    "for epoch in range(n_epochs):\n",
    "\n",
    "    batch_losses, batch_recon_losses = [], []\n",
    "\n",
    "    for phantom_batch, sino_batch in dataloader:\n",
    "        optimizer.zero_grad()\n",
    "\n",
    "        la_sinos, known_angles = geometry.zero_cropp_sinos(sino_batch, ar, 0)\n",
    "        la_sios, known_region = geometry.reflect_fill_sinos(la_sinos, known_angles)\n",
    "        known_angles = (~known_region).sum(dim=-1) == 0\n",
    "        exp_sinos = la_sinos + 0\n",
    "        loss = torch.tensor(0, device=DEVICE, dtype=DTYPE)\n",
    "        for fno in mifno_iter.fnos:\n",
    "            exp_sinos[:, ~known_region] = torch.nn.functional.relu(geometry.project_sinos(fno(exp_sinos), Legendre, mifno_iter.n_degs))[:, ~known_region]\n",
    "            loss += torch.mean((exp_sinos-sino_batch)**2) / mifno_iter.n_iters\n",
    "        \n",
    "        recons = torch.nn.functional.relu(geometry.fbp_reconstruct(exp_sinos))\n",
    "        recon_loss = torch.mean((recons-phantom_batch)**2)\n",
    "        loss += recon_loss\n",
    "        loss.backward()\n",
    "        optimizer.step()\n",
    "\n",
    "        batch_losses.append(loss.item())\n",
    "        batch_recon_losses.append(recon_loss.item())\n",
    "\n",
    "    print(\"Epoch\", epoch+1, \"loss:\", mean(batch_losses), \"recon loss:\", mean(batch_recon_losses))\n",
    "\n",
    "        \n"
   ]
  },
  {
   "cell_type": "code",
   "execution_count": 5,
   "metadata": {},
   "outputs": [
    {
     "ename": "RuntimeError",
     "evalue": "CUDA error: an illegal instruction was encountered\nCUDA kernel errors might be asynchronously reported at some other API call,so the stacktrace below might be incorrect.\nFor debugging consider passing CUDA_LAUNCH_BLOCKING=1.",
     "output_type": "error",
     "traceback": [
      "\u001b[0;31m---------------------------------------------------------------------------\u001b[0m",
      "\u001b[0;31mRuntimeError\u001b[0m                              Traceback (most recent call last)",
      "\u001b[1;32m/home/emastr/deep-limited-angle/KEX---CT-reconstruction/src/training/train_mifno.ipynb Cell 3\u001b[0m in \u001b[0;36m<cell line: 1>\u001b[0;34m()\u001b[0m\n\u001b[0;32m----> <a href='vscode-notebook-cell://ssh-remote%2Bshepp.math.kth.se/home/emastr/deep-limited-angle/KEX---CT-reconstruction/src/training/train_mifno.ipynb#W2sdnNjb2RlLXJlbW90ZQ%3D%3D?line=0'>1</a>\u001b[0m la_sinos, known_angles \u001b[39m=\u001b[39m geometry\u001b[39m.\u001b[39;49mzero_cropp_sinos(SINOS, ar, \u001b[39m0\u001b[39;49m)\n\u001b[1;32m      <a href='vscode-notebook-cell://ssh-remote%2Bshepp.math.kth.se/home/emastr/deep-limited-angle/KEX---CT-reconstruction/src/training/train_mifno.ipynb#W2sdnNjb2RlLXJlbW90ZQ%3D%3D?line=1'>2</a>\u001b[0m \u001b[39mimport\u001b[39;00m \u001b[39mmatplotlib\u001b[39;00m\n\u001b[1;32m      <a href='vscode-notebook-cell://ssh-remote%2Bshepp.math.kth.se/home/emastr/deep-limited-angle/KEX---CT-reconstruction/src/training/train_mifno.ipynb#W2sdnNjb2RlLXJlbW90ZQ%3D%3D?line=2'>3</a>\u001b[0m matplotlib\u001b[39m.\u001b[39muse(\u001b[39m\"\u001b[39m\u001b[39mWebAgg\u001b[39m\u001b[39m\"\u001b[39m)\n",
      "File \u001b[0;32m~/deep-limited-angle/KEX---CT-reconstruction/src/geometries/fanbeam_geometry/fanbeam_geometry.py:223\u001b[0m, in \u001b[0;36mFlatFanBeamGeometry.zero_cropp_sinos\u001b[0;34m(self, sinos, ar, start_ind)\u001b[0m\n\u001b[1;32m    221\u001b[0m n_projs \u001b[39m=\u001b[39m \u001b[39mint\u001b[39m(\u001b[39mself\u001b[39m\u001b[39m.\u001b[39mn_projections \u001b[39m*\u001b[39m ar)\n\u001b[1;32m    222\u001b[0m end_ind \u001b[39m=\u001b[39m (start_ind \u001b[39m+\u001b[39m n_projs) \u001b[39m%\u001b[39m \u001b[39mself\u001b[39m\u001b[39m.\u001b[39mn_projections\n\u001b[0;32m--> 223\u001b[0m known \u001b[39m=\u001b[39m torch\u001b[39m.\u001b[39;49mzeros(\u001b[39mself\u001b[39;49m\u001b[39m.\u001b[39;49mNb, dtype\u001b[39m=\u001b[39;49m\u001b[39mbool\u001b[39;49m, device\u001b[39m=\u001b[39;49mDEVICE)\n\u001b[1;32m    224\u001b[0m \u001b[39mif\u001b[39;00m start_ind \u001b[39m<\u001b[39m end_ind:\n\u001b[1;32m    225\u001b[0m     known[start_ind:end_ind] \u001b[39m=\u001b[39m \u001b[39mTrue\u001b[39;00m\n",
      "\u001b[0;31mRuntimeError\u001b[0m: CUDA error: an illegal instruction was encountered\nCUDA kernel errors might be asynchronously reported at some other API call,so the stacktrace below might be incorrect.\nFor debugging consider passing CUDA_LAUNCH_BLOCKING=1."
     ]
    }
   ],
   "source": [
    "la_sinos, known_angles = geometry.zero_cropp_sinos(SINOS, ar, 0)\n",
    "import matplotlib\n",
    "matplotlib.use(\"WebAgg\")\n",
    "\n",
    "plot_model_progress(mifno_iter, SINOS[:10], known_angles, known_angles|1, 0)"
   ]
  },
  {
   "cell_type": "code",
   "execution_count": 7,
   "metadata": {},
   "outputs": [
    {
     "ename": "RuntimeError",
     "evalue": "CUDA error: an illegal instruction was encountered\nCUDA kernel errors might be asynchronously reported at some other API call,so the stacktrace below might be incorrect.\nFor debugging consider passing CUDA_LAUNCH_BLOCKING=1.",
     "output_type": "error",
     "traceback": [
      "\u001b[0;31m---------------------------------------------------------------------------\u001b[0m",
      "\u001b[0;31mRuntimeError\u001b[0m                              Traceback (most recent call last)",
      "\u001b[1;32m/home/emastr/deep-limited-angle/KEX---CT-reconstruction/src/training/train_mifno.ipynb Cell 4\u001b[0m in \u001b[0;36m<cell line: 3>\u001b[0;34m()\u001b[0m\n\u001b[1;32m      <a href='vscode-notebook-cell://ssh-remote%2Bshepp.math.kth.se/home/emastr/deep-limited-angle/KEX---CT-reconstruction/src/training/train_mifno.ipynb#W3sdnNjb2RlLXJlbW90ZQ%3D%3D?line=0'>1</a>\u001b[0m \u001b[39mfrom\u001b[39;00m \u001b[39mmodels\u001b[39;00m\u001b[39m.\u001b[39;00m\u001b[39mmodelbase\u001b[39;00m \u001b[39mimport\u001b[39;00m save_model_checkpoint\n\u001b[0;32m----> <a href='vscode-notebook-cell://ssh-remote%2Bshepp.math.kth.se/home/emastr/deep-limited-angle/KEX---CT-reconstruction/src/training/train_mifno.ipynb#W3sdnNjb2RlLXJlbW90ZQ%3D%3D?line=2'>3</a>\u001b[0m save_model_checkpoint(mifno_iter, optimizer, loss, ar, GIT_ROOT \u001b[39m/\u001b[39;49m \u001b[39m\"\u001b[39;49m\u001b[39mdata/models/mifno_iter_ar_0.25_draft1.0.pt\u001b[39;49m\u001b[39m\"\u001b[39;49m)\n",
      "File \u001b[0;32m~/deep-limited-angle/KEX---CT-reconstruction/src/models/modelbase.py:124\u001b[0m, in \u001b[0;36msave_model_checkpoint\u001b[0;34m(model, optimizer, loss, angle_ratio, path)\u001b[0m\n\u001b[1;32m    121\u001b[0m \u001b[39mif\u001b[39;00m \u001b[39mnot\u001b[39;00m \u001b[39mtype\u001b[39m(model\u001b[39m.\u001b[39mgeometry)\u001b[39m.\u001b[39m\u001b[39m__name__\u001b[39m \u001b[39min\u001b[39;00m fbp_geometry_dict:\n\u001b[1;32m    122\u001b[0m     \u001b[39mprint\u001b[39m(\u001b[39m\"\u001b[39m\u001b[39mGeometry unrecognized, loading this model may not work!\u001b[39m\u001b[39m\"\u001b[39m)\n\u001b[0;32m--> 124\u001b[0m torch\u001b[39m.\u001b[39;49msave({\n\u001b[1;32m    125\u001b[0m     \u001b[39m\"\u001b[39;49m\u001b[39mmodel_state_dict\u001b[39;49m\u001b[39m\"\u001b[39;49m: model\u001b[39m.\u001b[39;49mstate_dict(),\n\u001b[1;32m    126\u001b[0m     \u001b[39m\"\u001b[39;49m\u001b[39mmodel_args\u001b[39;49m\u001b[39m\"\u001b[39;49m: model\u001b[39m.\u001b[39;49mget_init_torch_args(),\n\u001b[1;32m    127\u001b[0m     \u001b[39m\"\u001b[39;49m\u001b[39mgeometry_args\u001b[39;49m\u001b[39m\"\u001b[39;49m: model\u001b[39m.\u001b[39;49mgeometry\u001b[39m.\u001b[39;49mget_init_args(),\n\u001b[1;32m    128\u001b[0m     \u001b[39m\"\u001b[39;49m\u001b[39mgeometry_class_name\u001b[39;49m\u001b[39m\"\u001b[39;49m: \u001b[39mtype\u001b[39;49m(model\u001b[39m.\u001b[39;49mgeometry)\u001b[39m.\u001b[39;49m\u001b[39m__name__\u001b[39;49m,\n\u001b[1;32m    129\u001b[0m     \u001b[39m\"\u001b[39;49m\u001b[39moptimizer_state_dict\u001b[39;49m\u001b[39m\"\u001b[39;49m: optimizer\u001b[39m.\u001b[39;49mstate_dict(),\n\u001b[1;32m    130\u001b[0m     \u001b[39m\"\u001b[39;49m\u001b[39moptimizer_class_name\u001b[39;49m\u001b[39m\"\u001b[39;49m: \u001b[39mtype\u001b[39;49m(optimizer)\u001b[39m.\u001b[39;49m\u001b[39m__name__\u001b[39;49m,\n\u001b[1;32m    131\u001b[0m     \u001b[39m\"\u001b[39;49m\u001b[39mloss\u001b[39;49m\u001b[39m\"\u001b[39;49m: loss,\n\u001b[1;32m    132\u001b[0m     \u001b[39m\"\u001b[39;49m\u001b[39mangle_ratio\u001b[39;49m\u001b[39m\"\u001b[39;49m: angle_ratio\n\u001b[1;32m    133\u001b[0m }, path)\n",
      "File \u001b[0;32m~/anaconda3/envs/odl_torch/lib/python3.9/site-packages/torch/serialization.py:380\u001b[0m, in \u001b[0;36msave\u001b[0;34m(obj, f, pickle_module, pickle_protocol, _use_new_zipfile_serialization)\u001b[0m\n\u001b[1;32m    378\u001b[0m \u001b[39mif\u001b[39;00m _use_new_zipfile_serialization:\n\u001b[1;32m    379\u001b[0m     \u001b[39mwith\u001b[39;00m _open_zipfile_writer(opened_file) \u001b[39mas\u001b[39;00m opened_zipfile:\n\u001b[0;32m--> 380\u001b[0m         _save(obj, opened_zipfile, pickle_module, pickle_protocol)\n\u001b[1;32m    381\u001b[0m         \u001b[39mreturn\u001b[39;00m\n\u001b[1;32m    382\u001b[0m _legacy_save(obj, opened_file, pickle_module, pickle_protocol)\n",
      "File \u001b[0;32m~/anaconda3/envs/odl_torch/lib/python3.9/site-packages/torch/serialization.py:601\u001b[0m, in \u001b[0;36m_save\u001b[0;34m(obj, zip_file, pickle_module, pickle_protocol)\u001b[0m\n\u001b[1;32m    597\u001b[0m \u001b[39m# given that we copy things around anyway, we might use storage.cpu()\u001b[39;00m\n\u001b[1;32m    598\u001b[0m \u001b[39m# this means to that to get tensors serialized, you need to implement\u001b[39;00m\n\u001b[1;32m    599\u001b[0m \u001b[39m# .cpu() on the underlying Storage\u001b[39;00m\n\u001b[1;32m    600\u001b[0m \u001b[39mif\u001b[39;00m storage\u001b[39m.\u001b[39mdevice\u001b[39m.\u001b[39mtype \u001b[39m!=\u001b[39m \u001b[39m'\u001b[39m\u001b[39mcpu\u001b[39m\u001b[39m'\u001b[39m:\n\u001b[0;32m--> 601\u001b[0m     storage \u001b[39m=\u001b[39m storage\u001b[39m.\u001b[39;49mcpu()\n\u001b[1;32m    602\u001b[0m \u001b[39m# Now that it is on the CPU we can directly copy it into the zip file\u001b[39;00m\n\u001b[1;32m    603\u001b[0m num_bytes \u001b[39m=\u001b[39m storage\u001b[39m.\u001b[39mnbytes()\n",
      "File \u001b[0;32m~/anaconda3/envs/odl_torch/lib/python3.9/site-packages/torch/storage.py:83\u001b[0m, in \u001b[0;36m_StorageBase.cpu\u001b[0;34m(self)\u001b[0m\n\u001b[1;32m     81\u001b[0m \u001b[39mdef\u001b[39;00m \u001b[39mcpu\u001b[39m(\u001b[39mself\u001b[39m):\n\u001b[1;32m     82\u001b[0m     \u001b[39m\"\"\"Returns a CPU copy of this storage if it's not already on the CPU\"\"\"\u001b[39;00m\n\u001b[0;32m---> 83\u001b[0m     \u001b[39mreturn\u001b[39;00m _type(\u001b[39mself\u001b[39;49m, \u001b[39mgetattr\u001b[39;49m(torch, \u001b[39mself\u001b[39;49m\u001b[39m.\u001b[39;49m\u001b[39m__class__\u001b[39;49m\u001b[39m.\u001b[39;49m\u001b[39m__name__\u001b[39;49m))\n",
      "File \u001b[0;32m~/anaconda3/envs/odl_torch/lib/python3.9/site-packages/torch/_utils.py:45\u001b[0m, in \u001b[0;36m_type\u001b[0;34m(self, dtype, non_blocking, **kwargs)\u001b[0m\n\u001b[1;32m     43\u001b[0m \u001b[39mif\u001b[39;00m dtype\u001b[39m.\u001b[39mis_sparse:\n\u001b[1;32m     44\u001b[0m     \u001b[39mraise\u001b[39;00m \u001b[39mRuntimeError\u001b[39;00m(\u001b[39m\"\u001b[39m\u001b[39mCannot cast dense tensor to sparse tensor\u001b[39m\u001b[39m\"\u001b[39m)\n\u001b[0;32m---> 45\u001b[0m \u001b[39mreturn\u001b[39;00m dtype(\u001b[39mself\u001b[39;49m\u001b[39m.\u001b[39;49msize())\u001b[39m.\u001b[39;49mcopy_(\u001b[39mself\u001b[39;49m, non_blocking)\n",
      "\u001b[0;31mRuntimeError\u001b[0m: CUDA error: an illegal instruction was encountered\nCUDA kernel errors might be asynchronously reported at some other API call,so the stacktrace below might be incorrect.\nFor debugging consider passing CUDA_LAUNCH_BLOCKING=1."
     ]
    }
   ],
   "source": [
    "from models.modelbase import save_model_checkpoint\n",
    "\n",
    "save_model_checkpoint(mifno_iter, optimizer, loss, ar, GIT_ROOT / \"data/models/mifno_iter_ar_0.25_draft1.0.pt\")"
   ]
  }
 ],
 "metadata": {
  "kernelspec": {
   "display_name": "odl_torch",
   "language": "python",
   "name": "odl_torch"
  },
  "language_info": {
   "codemirror_mode": {
    "name": "ipython",
    "version": 3
   },
   "file_extension": ".py",
   "mimetype": "text/x-python",
   "name": "python",
   "nbconvert_exporter": "python",
   "pygments_lexer": "ipython3",
   "version": "3.9.10"
  },
  "orig_nbformat": 4
 },
 "nbformat": 4,
 "nbformat_minor": 2
}
