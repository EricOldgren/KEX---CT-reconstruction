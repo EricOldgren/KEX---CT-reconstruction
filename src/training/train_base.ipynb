{
 "cells": [
  {
   "cell_type": "code",
   "execution_count": null,
   "metadata": {},
   "outputs": [],
   "source": [
    "import torch\n",
    "import os\n",
    "import sys\n",
    "SRC = os.path.abspath(\"..\")\n",
    "if not SRC in sys.path:\n",
    "    sys.path.append(SRC)\n",
    "from geometries.fanbeam_geometry import FlatFanBeamGpeometry, DEVICE\n",
    "\n",
    "DEVICE = torch.device(\"cuda\" if torch.cuda.is_available() else \"cpu\")\n",
    "phantoms = torch.stack(torch.load(\"../../data/HTC2022/HTCTrainPhantomsFull.pt\")).to(DEVICE)\n",
    "\n",
    "geometry = FlatFanBeamGeometry(720, 560, 410.66, 543.74, 112, [-40,40, -40, 40], [512, 512])\n",
    "\n",
    "\n"
   ]
  }
 ],
 "metadata": {
  "kernelspec": {
   "display_name": "KEX",
   "language": "python",
   "name": "python3"
  },
  "language_info": {
   "name": "python",
   "version": "3.10.9"
  },
  "orig_nbformat": 4
 },
 "nbformat": 4,
 "nbformat_minor": 2
}
