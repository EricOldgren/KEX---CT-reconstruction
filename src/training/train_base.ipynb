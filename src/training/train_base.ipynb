{
 "cells": [
  {
   "cell_type": "code",
   "execution_count": 1,
   "metadata": {},
   "outputs": [],
   "source": [
    "import torch\n",
    "from torch.utils.data import DataLoader, TensorDataset\n",
    "import torch.nn.functional as F\n",
    "import sys\n",
    "from pathlib import Path\n",
    "import matplotlib\n",
    "matplotlib.use(\"WebAgg\")\n",
    "import matplotlib.pyplot as plt\n",
    "GIT_ROOT = Path(\"../..\").resolve()\n",
    "SRC = GIT_ROOT / \"src\"\n",
    "if not SRC in sys.path:\n",
    "    sys.path.append(str(SRC))"
   ]
  },
  {
   "cell_type": "code",
   "execution_count": 4,
   "metadata": {},
   "outputs": [
    {
     "name": "stdout",
     "output_type": "stream",
     "text": [
      "Epoch: 1 loss is: 0.5134387958620554 sino loss is: 0.4741862479150295 recon loss is: 0.0392525479470259\n",
      "Epoch: 2 loss is: 0.23167837030685828 sino loss is: 0.19200844463706015 recon loss is: 0.03966992566979812\n",
      "Epoch: 3 loss is: 0.22019308199432208 sino loss is: 0.18345234975218772 recon loss is: 0.03674073224213435\n",
      "Epoch: 4 loss is: 0.20225187926538782 sino loss is: 0.16950221705436708 recon loss is: 0.03274966221102075\n",
      "Epoch: 5 loss is: 0.19319195611834883 sino loss is: 0.1608447540998459 recon loss is: 0.03234720201850294\n",
      "Epoch: 6 loss is: 0.1870912845536939 sino loss is: 0.1557417548596859 recon loss is: 0.031349529694007984\n",
      "Epoch: 7 loss is: 0.18549428325208434 sino loss is: 0.15452100497484206 recon loss is: 0.030973278277242274\n",
      "Epoch: 8 loss is: 0.18453098201029333 sino loss is: 0.15355392330884934 recon loss is: 0.030977058701443995\n",
      "Epoch: 9 loss is: 0.18189671223567305 sino loss is: 0.15130121728777884 recon loss is: 0.03059549494789419\n",
      "Epoch: 10 loss is: 0.17907692619618154 sino loss is: 0.14904863595962525 recon loss is: 0.030028290236556288\n",
      "Epoch: 11 loss is: 0.1800638184834093 sino loss is: 0.1501187345981598 recon loss is: 0.029945083885249503\n",
      "Epoch: 12 loss is: 0.17650238895470838 sino loss is: 0.1462515690624714 recon loss is: 0.030250819892236984\n",
      "Epoch: 13 loss is: 0.17905915558420715 sino loss is: 0.1491377332806587 recon loss is: 0.02992142230354842\n",
      "Epoch: 14 loss is: 0.17543188386348715 sino loss is: 0.14632242783904076 recon loss is: 0.0291094560244464\n"
     ]
    },
    {
     "ename": "KeyboardInterrupt",
     "evalue": "",
     "output_type": "error",
     "traceback": [
      "\u001b[0;31m---------------------------------------------------------------------------\u001b[0m",
      "\u001b[0;31mKeyboardInterrupt\u001b[0m                         Traceback (most recent call last)",
      "\u001b[1;32m/home/emastr/deep-limited-angle/KEX---CT-reconstruction/src/training/train_base.ipynb Cell 2\u001b[0m in \u001b[0;36m<cell line: 24>\u001b[0;34m()\u001b[0m\n\u001b[1;32m     <a href='vscode-notebook-cell://ssh-remote%2Bshepp.math.kth.se/home/emastr/deep-limited-angle/KEX---CT-reconstruction/src/training/train_base.ipynb#W1sdnNjb2RlLXJlbW90ZQ%3D%3D?line=29'>30</a>\u001b[0m la_sinos, known_beta_bool \u001b[39m=\u001b[39m geometry\u001b[39m.\u001b[39mzero_cropp_sinos(sino_batch, ar\u001b[39m=\u001b[39mar, start_ind\u001b[39m=\u001b[39mstart_ind) \u001b[39m#known_beta_bool is True at angles where sinogram is meassured and false otherwise\u001b[39;00m\n\u001b[1;32m     <a href='vscode-notebook-cell://ssh-remote%2Bshepp.math.kth.se/home/emastr/deep-limited-angle/KEX---CT-reconstruction/src/training/train_base.ipynb#W1sdnNjb2RlLXJlbW90ZQ%3D%3D?line=30'>31</a>\u001b[0m la_sinos, known_region \u001b[39m=\u001b[39m geometry\u001b[39m.\u001b[39mreflect_fill_sinos(la_sinos, known_beta_bool)\n\u001b[0;32m---> <a href='vscode-notebook-cell://ssh-remote%2Bshepp.math.kth.se/home/emastr/deep-limited-angle/KEX---CT-reconstruction/src/training/train_base.ipynb#W1sdnNjb2RlLXJlbW90ZQ%3D%3D?line=31'>32</a>\u001b[0m la_sinos \u001b[39m=\u001b[39m naive_sino_filling(la_sinos, (\u001b[39m~\u001b[39;49mknown_region)\u001b[39m.\u001b[39;49msum(dim\u001b[39m=\u001b[39;49m\u001b[39m-\u001b[39;49m\u001b[39m1\u001b[39;49m) \u001b[39m==\u001b[39;49m \u001b[39m0\u001b[39;49m)\n\u001b[1;32m     <a href='vscode-notebook-cell://ssh-remote%2Bshepp.math.kth.se/home/emastr/deep-limited-angle/KEX---CT-reconstruction/src/training/train_base.ipynb#W1sdnNjb2RlLXJlbW90ZQ%3D%3D?line=32'>33</a>\u001b[0m la_sinos \u001b[39m=\u001b[39m geometry\u001b[39m.\u001b[39mrotate_sinos(la_sinos, \u001b[39m-\u001b[39mstart_ind) \u001b[39m#FNO needs known angles to be in the same region all the time\u001b[39;00m\n\u001b[1;32m     <a href='vscode-notebook-cell://ssh-remote%2Bshepp.math.kth.se/home/emastr/deep-limited-angle/KEX---CT-reconstruction/src/training/train_base.ipynb#W1sdnNjb2RlLXJlbW90ZQ%3D%3D?line=34'>35</a>\u001b[0m filtered \u001b[39m=\u001b[39m model\u001b[39m.\u001b[39mget_extrapolated_filtered_sinos(la_sinos)\n",
      "File \u001b[0;32m~/deep-limited-angle/KEX---CT-reconstruction/src/geometries/geometry_base.py:109\u001b[0m, in \u001b[0;36mnaive_sino_filling\u001b[0;34m(sinos, known_beta_bools)\u001b[0m\n\u001b[1;32m    107\u001b[0m between \u001b[39m=\u001b[39m unknown_inds[between]\n\u001b[1;32m    108\u001b[0m nb \u001b[39m=\u001b[39m between\u001b[39m.\u001b[39mnelement()\n\u001b[0;32m--> 109\u001b[0m res[:, between, :] \u001b[39m=\u001b[39m last_vals \u001b[39m+\u001b[39m (vals\u001b[39m-\u001b[39;49mlast_vals)\u001b[39m*\u001b[39m(torch\u001b[39m.\u001b[39marange(\u001b[39m1\u001b[39m, nb\u001b[39m+\u001b[39m\u001b[39m1\u001b[39m, device\u001b[39m=\u001b[39msinos\u001b[39m.\u001b[39mdevice) \u001b[39m/\u001b[39m (nb\u001b[39m+\u001b[39m\u001b[39m1\u001b[39m))[\u001b[39mNone\u001b[39;00m, :, \u001b[39mNone\u001b[39;00m] \n\u001b[1;32m    111\u001b[0m lower_ind \u001b[39m=\u001b[39m upper_ind\n\u001b[1;32m    112\u001b[0m last_vals \u001b[39m=\u001b[39m vals\n",
      "\u001b[0;31mKeyboardInterrupt\u001b[0m: "
     ]
    }
   ],
   "source": [
    "from geometries import FlatFanBeamGeometry, DEVICE, HTC2022_GEOMETRY as geometry\n",
    "from geometries.geometry_base import naive_sino_filling\n",
    "from utils.tools import get_htc2022_train_phantoms, get_kits_train_phantoms\n",
    "from models.fbps import AdaptiveFBP as AFBP\n",
    "from models.FNOBPs.fnobp import FNO_BP\n",
    "from models.modelbase import plot_model_progress\n",
    "from statistics import mean\n",
    "\n",
    "ar = 0.25 #angle ratio of full 360 deg scan\n",
    "# PHANTOM_DATA = get_htc2022_train_phantoms()\n",
    "PHANTOM_DATA = get_kits_train_phantoms()\n",
    "geometry = FlatFanBeamGeometry(720, 560, 410.66, 543.74, 112, [-40,40, -40, 40], [256, 256])\n",
    "SINO_DATA = geometry.project_forward(PHANTOM_DATA)\n",
    "\n",
    "# model = AFBP(geometry)\n",
    "model = FNO_BP(geometry, hidden_layers=[40,40], modes=geometry.projection_size//2)\n",
    "\n",
    "dataset = TensorDataset(SINO_DATA, PHANTOM_DATA)\n",
    "dataloader = DataLoader(dataset, batch_size=2, shuffle=True)\n",
    "\n",
    "optimizer = torch.optim.Adam(model.parameters(), lr=1e-3, weight_decay=1e-3, betas=(0.8, 0.95))\n",
    "mse_fn = lambda diff : torch.mean(diff**2)\n",
    "n_epochs = 100\n",
    "for epoch in range(n_epochs):\n",
    "    batch_losses, batch_sino_losses, batch_recon_losses = [], [], []\n",
    "    for sino_batch, phantom_batch in dataloader:\n",
    "        optimizer.zero_grad()\n",
    "\n",
    "        start_ind = torch.randint(0, geometry.n_projections, (1,)).item()\n",
    "        la_sinos, known_beta_bool = geometry.zero_cropp_sinos(sino_batch, ar=ar, start_ind=start_ind) #known_beta_bool is True at angles where sinogram is meassured and false otherwise\n",
    "        la_sinos, known_region = geometry.reflect_fill_sinos(la_sinos, known_beta_bool)\n",
    "        la_sinos = naive_sino_filling(la_sinos, (~known_region).sum(dim=-1) == 0)\n",
    "        la_sinos = geometry.rotate_sinos(la_sinos, -start_ind) #FNO needs known angles to be in the same region all the time\n",
    "\n",
    "        filtered = model.get_extrapolated_filtered_sinos(la_sinos)\n",
    "        filtered = geometry.rotate_sinos(filtered, start_ind) #rotate back\n",
    "        gt_filtered = geometry.inverse_fourier_transform(geometry.fourier_transform(sino_batch*geometry.jacobian_det)*geometry.ram_lak_filter())\n",
    "        loss_sino_domain = mse_fn(gt_filtered-filtered)\n",
    "\n",
    "        recons = F.relu(geometry.project_backward(filtered/2)) #sinogram covers 360deg  - double coverage\n",
    "        loss_recon_domain = mse_fn(phantom_batch - recons)\n",
    "\n",
    "        loss = loss_recon_domain + loss_sino_domain\n",
    "        loss.backward()\n",
    "        optimizer.step()\n",
    "\n",
    "        batch_losses.append(loss.cpu().item())\n",
    "        batch_sino_losses.append(loss_sino_domain.cpu().item())\n",
    "        batch_recon_losses.append(loss_recon_domain.cpu().item())\n",
    "    \n",
    "    print(\"Epoch:\", epoch+1, \"loss is:\", mean(batch_losses), \"sino loss is:\", mean(batch_sino_losses), \"recon loss is:\", mean(batch_recon_losses))"
   ]
  },
  {
   "cell_type": "code",
   "execution_count": 11,
   "metadata": {},
   "outputs": [
    {
     "name": "stdout",
     "output_type": "stream",
     "text": [
      "========================================\n",
      "FNO_BP\n",
      "sinogram mse: tensor(10.6201, device='cuda:0')\n",
      "filterd sinogram mse:  tensor(0.1603, device='cuda:0')\n",
      "reconstruction mse:  tensor(0.0342, device='cuda:0', dtype=torch.float64)\n",
      "========================================\n",
      "FBP\n",
      "sinogram mse: tensor(10.6201, device='cuda:0')\n",
      "filterd sinogram mse:  tensor(0.2048, device='cuda:0')\n",
      "reconstruction mse:  tensor(0.0302, device='cuda:0', dtype=torch.float64)\n",
      "Press Ctrl+C to stop WebAgg server\n"
     ]
    },
    {
     "ename": "RuntimeError",
     "evalue": "This event loop is already running",
     "output_type": "error",
     "traceback": [
      "\u001b[0;31m---------------------------------------------------------------------------\u001b[0m",
      "\u001b[0;31mRuntimeError\u001b[0m                              Traceback (most recent call last)",
      "\u001b[1;32m/home/emastr/deep-limited-angle/KEX---CT-reconstruction/src/training/train_base.ipynb Cell 3\u001b[0m in \u001b[0;36m<cell line: 14>\u001b[0;34m()\u001b[0m\n\u001b[1;32m     <a href='vscode-notebook-cell://ssh-remote%2Bshepp.math.kth.se/home/emastr/deep-limited-angle/KEX---CT-reconstruction/src/training/train_base.ipynb#W2sdnNjb2RlLXJlbW90ZQ%3D%3D?line=10'>11</a>\u001b[0m plot_model_progress(model, zero_cropped_sinos, SINO_DATA[:\u001b[39m5\u001b[39m], PHANTOM_DATA[:\u001b[39m5\u001b[39m], disp_ind\u001b[39m=\u001b[39mdisp_ind)\n\u001b[1;32m     <a href='vscode-notebook-cell://ssh-remote%2Bshepp.math.kth.se/home/emastr/deep-limited-angle/KEX---CT-reconstruction/src/training/train_base.ipynb#W2sdnNjb2RlLXJlbW90ZQ%3D%3D?line=11'>12</a>\u001b[0m plot_model_progress(fbp, zero_cropped_sinos, SINO_DATA[:\u001b[39m5\u001b[39m], PHANTOM_DATA[:\u001b[39m5\u001b[39m], disp_ind\u001b[39m=\u001b[39mdisp_ind)\n\u001b[0;32m---> <a href='vscode-notebook-cell://ssh-remote%2Bshepp.math.kth.se/home/emastr/deep-limited-angle/KEX---CT-reconstruction/src/training/train_base.ipynb#W2sdnNjb2RlLXJlbW90ZQ%3D%3D?line=13'>14</a>\u001b[0m plt\u001b[39m.\u001b[39;49mshow()\n",
      "File \u001b[0;32m~/anaconda3/envs/odl_torch/lib/python3.9/site-packages/matplotlib/pyplot.py:368\u001b[0m, in \u001b[0;36mshow\u001b[0;34m(*args, **kwargs)\u001b[0m\n\u001b[1;32m    324\u001b[0m \u001b[39m\"\"\"\u001b[39;00m\n\u001b[1;32m    325\u001b[0m \u001b[39mDisplay all open figures.\u001b[39;00m\n\u001b[1;32m    326\u001b[0m \n\u001b[0;32m   (...)\u001b[0m\n\u001b[1;32m    365\u001b[0m \u001b[39mexplicitly there.\u001b[39;00m\n\u001b[1;32m    366\u001b[0m \u001b[39m\"\"\"\u001b[39;00m\n\u001b[1;32m    367\u001b[0m _warn_if_gui_out_of_main_thread()\n\u001b[0;32m--> 368\u001b[0m \u001b[39mreturn\u001b[39;00m _backend_mod\u001b[39m.\u001b[39;49mshow(\u001b[39m*\u001b[39;49margs, \u001b[39m*\u001b[39;49m\u001b[39m*\u001b[39;49mkwargs)\n",
      "File \u001b[0;32m~/anaconda3/envs/odl_torch/lib/python3.9/site-packages/matplotlib/backends/backend_webagg.py:320\u001b[0m, in \u001b[0;36m_BackendWebAgg.show\u001b[0;34m()\u001b[0m\n\u001b[1;32m    317\u001b[0m \u001b[39melse\u001b[39;00m:\n\u001b[1;32m    318\u001b[0m     \u001b[39mprint\u001b[39m(\u001b[39m\"\u001b[39m\u001b[39mTo view figure, visit \u001b[39m\u001b[39m{0}\u001b[39;00m\u001b[39m\"\u001b[39m\u001b[39m.\u001b[39mformat(url))\n\u001b[0;32m--> 320\u001b[0m WebAggApplication\u001b[39m.\u001b[39;49mstart()\n",
      "File \u001b[0;32m~/anaconda3/envs/odl_torch/lib/python3.9/site-packages/matplotlib/backends/backend_webagg.py:277\u001b[0m, in \u001b[0;36mWebAggApplication.start\u001b[0;34m(cls)\u001b[0m\n\u001b[1;32m    275\u001b[0m sys\u001b[39m.\u001b[39mstdout\u001b[39m.\u001b[39mflush()\n\u001b[1;32m    276\u001b[0m \u001b[39mwith\u001b[39;00m catch_sigint():\n\u001b[0;32m--> 277\u001b[0m     ioloop\u001b[39m.\u001b[39;49mstart()\n",
      "File \u001b[0;32m~/anaconda3/envs/odl_torch/lib/python3.9/site-packages/tornado/platform/asyncio.py:199\u001b[0m, in \u001b[0;36mBaseAsyncIOLoop.start\u001b[0;34m(self)\u001b[0m\n\u001b[1;32m    197\u001b[0m     \u001b[39mself\u001b[39m\u001b[39m.\u001b[39m_setup_logging()\n\u001b[1;32m    198\u001b[0m     asyncio\u001b[39m.\u001b[39mset_event_loop(\u001b[39mself\u001b[39m\u001b[39m.\u001b[39masyncio_loop)\n\u001b[0;32m--> 199\u001b[0m     \u001b[39mself\u001b[39;49m\u001b[39m.\u001b[39;49masyncio_loop\u001b[39m.\u001b[39;49mrun_forever()\n\u001b[1;32m    200\u001b[0m \u001b[39mfinally\u001b[39;00m:\n\u001b[1;32m    201\u001b[0m     asyncio\u001b[39m.\u001b[39mset_event_loop(old_loop)\n",
      "File \u001b[0;32m~/anaconda3/envs/odl_torch/lib/python3.9/asyncio/base_events.py:586\u001b[0m, in \u001b[0;36mBaseEventLoop.run_forever\u001b[0;34m(self)\u001b[0m\n\u001b[1;32m    584\u001b[0m \u001b[39m\"\"\"Run until stop() is called.\"\"\"\u001b[39;00m\n\u001b[1;32m    585\u001b[0m \u001b[39mself\u001b[39m\u001b[39m.\u001b[39m_check_closed()\n\u001b[0;32m--> 586\u001b[0m \u001b[39mself\u001b[39;49m\u001b[39m.\u001b[39;49m_check_running()\n\u001b[1;32m    587\u001b[0m \u001b[39mself\u001b[39m\u001b[39m.\u001b[39m_set_coroutine_origin_tracking(\u001b[39mself\u001b[39m\u001b[39m.\u001b[39m_debug)\n\u001b[1;32m    588\u001b[0m \u001b[39mself\u001b[39m\u001b[39m.\u001b[39m_thread_id \u001b[39m=\u001b[39m threading\u001b[39m.\u001b[39mget_ident()\n",
      "File \u001b[0;32m~/anaconda3/envs/odl_torch/lib/python3.9/asyncio/base_events.py:578\u001b[0m, in \u001b[0;36mBaseEventLoop._check_running\u001b[0;34m(self)\u001b[0m\n\u001b[1;32m    576\u001b[0m \u001b[39mdef\u001b[39;00m \u001b[39m_check_running\u001b[39m(\u001b[39mself\u001b[39m):\n\u001b[1;32m    577\u001b[0m     \u001b[39mif\u001b[39;00m \u001b[39mself\u001b[39m\u001b[39m.\u001b[39mis_running():\n\u001b[0;32m--> 578\u001b[0m         \u001b[39mraise\u001b[39;00m \u001b[39mRuntimeError\u001b[39;00m(\u001b[39m'\u001b[39m\u001b[39mThis event loop is already running\u001b[39m\u001b[39m'\u001b[39m)\n\u001b[1;32m    579\u001b[0m     \u001b[39mif\u001b[39;00m events\u001b[39m.\u001b[39m_get_running_loop() \u001b[39mis\u001b[39;00m \u001b[39mnot\u001b[39;00m \u001b[39mNone\u001b[39;00m:\n\u001b[1;32m    580\u001b[0m         \u001b[39mraise\u001b[39;00m \u001b[39mRuntimeError\u001b[39;00m(\n\u001b[1;32m    581\u001b[0m             \u001b[39m'\u001b[39m\u001b[39mCannot run the event loop while another loop is running\u001b[39m\u001b[39m'\u001b[39m)\n",
      "\u001b[0;31mRuntimeError\u001b[0m: This event loop is already running"
     ]
    }
   ],
   "source": [
    "from models.fbps import FBP\n",
    "fbp = FBP(model.geometry)\n",
    "#Clear previous plots\n",
    "for i in plt.get_fignums():\n",
    "    plt.figure(i)\n",
    "    plt.close()\n",
    "\n",
    "zero_cropped_sinos, known_region = geometry.reflect_fill_sinos(*geometry.zero_cropp_sinos(SINO_DATA[:5], ar, 0))\n",
    "zero_cropped_sinos = naive_sino_filling(zero_cropped_sinos, (~known_region).sum(dim=-1) == 0)\n",
    "disp_ind = 2\n",
    "plot_model_progress(model, zero_cropped_sinos, SINO_DATA[:5], PHANTOM_DATA[:5], disp_ind=disp_ind)\n",
    "plot_model_progress(fbp, zero_cropped_sinos, SINO_DATA[:5], PHANTOM_DATA[:5], disp_ind=disp_ind)\n",
    "\n",
    "plt.show()"
   ]
  },
  {
   "cell_type": "code",
   "execution_count": 7,
   "metadata": {},
   "outputs": [
    {
     "name": "stdout",
     "output_type": "stream",
     "text": [
      "0.005315318074442698\n"
     ]
    }
   ],
   "source": [
    "#Full angle fbp recons mse\n",
    "recons = geometry.fbp_reconstruct(SINO_DATA)\n",
    "print(torch.mean((recons-PHANTOM_DATA)**2).item())"
   ]
  },
  {
   "cell_type": "code",
   "execution_count": 31,
   "metadata": {},
   "outputs": [
    {
     "name": "stdout",
     "output_type": "stream",
     "text": [
      "model saved to /home/emastr/deep-limited-angle/KEX---CT-reconstruction/data/models/fno_bp_ar0.25.pt\n"
     ]
    }
   ],
   "source": [
    "#Save model\n",
    "modelname = \"fno_bp_ar0.25\"\n",
    "from models.modelbase import save_model_checkpoint\n",
    "save_path = GIT_ROOT / \"data\" / \"models\" / (modelname + \".pt\")\n",
    "save_model_checkpoint(model, optimizer, loss, ar, save_path)\n",
    "print(\"model saved to\", save_path)"
   ]
  },
  {
   "cell_type": "code",
   "execution_count": null,
   "metadata": {},
   "outputs": [],
   "source": []
  }
 ],
 "metadata": {
  "kernelspec": {
   "display_name": "odl_torch",
   "language": "python",
   "name": "odl_torch"
  },
  "language_info": {
   "codemirror_mode": {
    "name": "ipython",
    "version": 3
   },
   "file_extension": ".py",
   "mimetype": "text/x-python",
   "name": "python",
   "nbconvert_exporter": "python",
   "pygments_lexer": "ipython3",
   "version": "3.9.10"
  },
  "orig_nbformat": 4
 },
 "nbformat": 4,
 "nbformat_minor": 2
}
