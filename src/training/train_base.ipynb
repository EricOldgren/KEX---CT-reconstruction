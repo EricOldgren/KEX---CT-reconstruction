{
 "cells": [
  {
   "cell_type": "code",
   "execution_count": 4,
   "metadata": {},
   "outputs": [
    {
     "name": "stderr",
     "output_type": "stream",
     "text": [
      "c:\\Users\\salom\\anaconda3\\envs\\KEX\\lib\\site-packages\\odl\\tomo\\backends\\astra_cpu.py:318: RuntimeWarning: The 'astra_cpu' backend may be too slow for volumes of this size. Consider using 'astra_cuda' if your machine has an Nvidia GPU.\n",
      "  warnings.warn(\n"
     ]
    },
    {
     "name": "stdout",
     "output_type": "stream",
     "text": [
      "Epoch: 1 loss is: 0.26047372291306276\n",
      "Epoch: 2 loss is: 0.3011248481341968\n",
      "Epoch: 3 loss is: 0.23215332416146764\n",
      "Epoch: 4 loss is: 0.29155269721027777\n"
     ]
    },
    {
     "ename": "KeyboardInterrupt",
     "evalue": "",
     "output_type": "error",
     "traceback": [
      "\u001b[1;31m---------------------------------------------------------------------------\u001b[0m",
      "\u001b[1;31mKeyboardInterrupt\u001b[0m                         Traceback (most recent call last)",
      "Cell \u001b[1;32mIn[4], line 46\u001b[0m\n\u001b[0;32m     43\u001b[0m recons \u001b[39m=\u001b[39m geometry\u001b[39m.\u001b[39mproject_backward(filtered\u001b[39m/\u001b[39m\u001b[39m2\u001b[39m) \u001b[39m#sinogram covers 360deg  - double coverage\u001b[39;00m\n\u001b[0;32m     45\u001b[0m loss \u001b[39m=\u001b[39m mse_fn(phantom_batch \u001b[39m-\u001b[39m recons)\n\u001b[1;32m---> 46\u001b[0m loss\u001b[39m.\u001b[39;49mbackward()\n\u001b[0;32m     47\u001b[0m optimizer\u001b[39m.\u001b[39mstep()\n\u001b[0;32m     49\u001b[0m batch_losses\u001b[39m.\u001b[39mappend(loss\u001b[39m.\u001b[39mcpu()\u001b[39m.\u001b[39mitem())\n",
      "File \u001b[1;32mc:\\Users\\salom\\anaconda3\\envs\\KEX\\lib\\site-packages\\torch\\_tensor.py:488\u001b[0m, in \u001b[0;36mTensor.backward\u001b[1;34m(self, gradient, retain_graph, create_graph, inputs)\u001b[0m\n\u001b[0;32m    478\u001b[0m \u001b[39mif\u001b[39;00m has_torch_function_unary(\u001b[39mself\u001b[39m):\n\u001b[0;32m    479\u001b[0m     \u001b[39mreturn\u001b[39;00m handle_torch_function(\n\u001b[0;32m    480\u001b[0m         Tensor\u001b[39m.\u001b[39mbackward,\n\u001b[0;32m    481\u001b[0m         (\u001b[39mself\u001b[39m,),\n\u001b[1;32m   (...)\u001b[0m\n\u001b[0;32m    486\u001b[0m         inputs\u001b[39m=\u001b[39minputs,\n\u001b[0;32m    487\u001b[0m     )\n\u001b[1;32m--> 488\u001b[0m torch\u001b[39m.\u001b[39;49mautograd\u001b[39m.\u001b[39;49mbackward(\n\u001b[0;32m    489\u001b[0m     \u001b[39mself\u001b[39;49m, gradient, retain_graph, create_graph, inputs\u001b[39m=\u001b[39;49minputs\n\u001b[0;32m    490\u001b[0m )\n",
      "File \u001b[1;32mc:\\Users\\salom\\anaconda3\\envs\\KEX\\lib\\site-packages\\torch\\autograd\\__init__.py:197\u001b[0m, in \u001b[0;36mbackward\u001b[1;34m(tensors, grad_tensors, retain_graph, create_graph, grad_variables, inputs)\u001b[0m\n\u001b[0;32m    192\u001b[0m     retain_graph \u001b[39m=\u001b[39m create_graph\n\u001b[0;32m    194\u001b[0m \u001b[39m# The reason we repeat same the comment below is that\u001b[39;00m\n\u001b[0;32m    195\u001b[0m \u001b[39m# some Python versions print out the first line of a multi-line function\u001b[39;00m\n\u001b[0;32m    196\u001b[0m \u001b[39m# calls in the traceback and some print out the last line\u001b[39;00m\n\u001b[1;32m--> 197\u001b[0m Variable\u001b[39m.\u001b[39;49m_execution_engine\u001b[39m.\u001b[39;49mrun_backward(  \u001b[39m# Calls into the C++ engine to run the backward pass\u001b[39;49;00m\n\u001b[0;32m    198\u001b[0m     tensors, grad_tensors_, retain_graph, create_graph, inputs,\n\u001b[0;32m    199\u001b[0m     allow_unreachable\u001b[39m=\u001b[39;49m\u001b[39mTrue\u001b[39;49;00m, accumulate_grad\u001b[39m=\u001b[39;49m\u001b[39mTrue\u001b[39;49;00m)\n",
      "File \u001b[1;32mc:\\Users\\salom\\anaconda3\\envs\\KEX\\lib\\site-packages\\torch\\autograd\\function.py:267\u001b[0m, in \u001b[0;36mBackwardCFunction.apply\u001b[1;34m(self, *args)\u001b[0m\n\u001b[0;32m    263\u001b[0m     \u001b[39mraise\u001b[39;00m \u001b[39mRuntimeError\u001b[39;00m(\u001b[39m\"\u001b[39m\u001b[39mImplementing both \u001b[39m\u001b[39m'\u001b[39m\u001b[39mbackward\u001b[39m\u001b[39m'\u001b[39m\u001b[39m and \u001b[39m\u001b[39m'\u001b[39m\u001b[39mvjp\u001b[39m\u001b[39m'\u001b[39m\u001b[39m for a custom \u001b[39m\u001b[39m\"\u001b[39m\n\u001b[0;32m    264\u001b[0m                        \u001b[39m\"\u001b[39m\u001b[39mFunction is not allowed. You should only implement one \u001b[39m\u001b[39m\"\u001b[39m\n\u001b[0;32m    265\u001b[0m                        \u001b[39m\"\u001b[39m\u001b[39mof them.\u001b[39m\u001b[39m\"\u001b[39m)\n\u001b[0;32m    266\u001b[0m user_fn \u001b[39m=\u001b[39m vjp_fn \u001b[39mif\u001b[39;00m vjp_fn \u001b[39mis\u001b[39;00m \u001b[39mnot\u001b[39;00m Function\u001b[39m.\u001b[39mvjp \u001b[39melse\u001b[39;00m backward_fn\n\u001b[1;32m--> 267\u001b[0m \u001b[39mreturn\u001b[39;00m user_fn(\u001b[39mself\u001b[39;49m, \u001b[39m*\u001b[39;49margs)\n",
      "File \u001b[1;32mc:\\Users\\salom\\anaconda3\\envs\\KEX\\lib\\site-packages\\odl\\contrib\\torch\\operator.py:360\u001b[0m, in \u001b[0;36mOperatorFunction.backward\u001b[1;34m(ctx, grad_output)\u001b[0m\n\u001b[0;32m    358\u001b[0m \u001b[39mif\u001b[39;00m operator\u001b[39m.\u001b[39mis_linear:\n\u001b[0;32m    359\u001b[0m     \u001b[39mfor\u001b[39;00m ograd \u001b[39min\u001b[39;00m grad_output_arr_flat_extra:\n\u001b[1;32m--> 360\u001b[0m         results\u001b[39m.\u001b[39mappend(np\u001b[39m.\u001b[39masarray(operator\u001b[39m.\u001b[39;49madjoint(ograd)))\n\u001b[0;32m    361\u001b[0m \u001b[39melse\u001b[39;00m:\n\u001b[0;32m    362\u001b[0m     \u001b[39m# Need inputs, flattened in the same way as the gradients\u001b[39;00m\n\u001b[0;32m    363\u001b[0m     input_arr_flat_extra \u001b[39m=\u001b[39m input_arr\u001b[39m.\u001b[39mreshape((\u001b[39m-\u001b[39m\u001b[39m1\u001b[39m,) \u001b[39m+\u001b[39m op_in_shape)\n",
      "File \u001b[1;32mc:\\Users\\salom\\anaconda3\\envs\\KEX\\lib\\site-packages\\odl\\operator\\operator.py:695\u001b[0m, in \u001b[0;36mOperator.__call__\u001b[1;34m(self, x, out, **kwargs)\u001b[0m\n\u001b[0;32m    689\u001b[0m         \u001b[39mraise\u001b[39;00m \u001b[39mValueError\u001b[39;00m(\u001b[39m'\u001b[39m\u001b[39m`op` returned a different value than `out`. \u001b[39m\u001b[39m'\u001b[39m\n\u001b[0;32m    690\u001b[0m                          \u001b[39m'\u001b[39m\u001b[39mWith in-place evaluation, the operator can \u001b[39m\u001b[39m'\u001b[39m\n\u001b[0;32m    691\u001b[0m                          \u001b[39m'\u001b[39m\u001b[39monly return nothing (`None`) or the `out` \u001b[39m\u001b[39m'\u001b[39m\n\u001b[0;32m    692\u001b[0m                          \u001b[39m'\u001b[39m\u001b[39mparameter.\u001b[39m\u001b[39m'\u001b[39m)\n\u001b[0;32m    694\u001b[0m \u001b[39melse\u001b[39;00m:  \u001b[39m# Out-of-place evaluation\u001b[39;00m\n\u001b[1;32m--> 695\u001b[0m     out \u001b[39m=\u001b[39m \u001b[39mself\u001b[39m\u001b[39m.\u001b[39m_call_out_of_place(x, \u001b[39m*\u001b[39m\u001b[39m*\u001b[39mkwargs)\n\u001b[0;32m    697\u001b[0m     \u001b[39mif\u001b[39;00m out \u001b[39mnot\u001b[39;00m \u001b[39min\u001b[39;00m \u001b[39mself\u001b[39m\u001b[39m.\u001b[39mrange:\n\u001b[0;32m    698\u001b[0m         \u001b[39mtry\u001b[39;00m:\n",
      "File \u001b[1;32mc:\\Users\\salom\\anaconda3\\envs\\KEX\\lib\\site-packages\\odl\\tomo\\operators\\ray_trafo.py:317\u001b[0m, in \u001b[0;36mRayTransform._call\u001b[1;34m(self, x, out, **kwargs)\u001b[0m\n\u001b[0;32m    299\u001b[0m \u001b[39mdef\u001b[39;00m \u001b[39m_call\u001b[39m(\u001b[39mself\u001b[39m, x, out\u001b[39m=\u001b[39m\u001b[39mNone\u001b[39;00m, \u001b[39m*\u001b[39m\u001b[39m*\u001b[39mkwargs):\n\u001b[0;32m    300\u001b[0m \u001b[39m    \u001b[39m\u001b[39m\"\"\"Forward projection.\u001b[39;00m\n\u001b[0;32m    301\u001b[0m \n\u001b[0;32m    302\u001b[0m \u001b[39m    Parameters\u001b[39;00m\n\u001b[1;32m   (...)\u001b[0m\n\u001b[0;32m    315\u001b[0m \u001b[39m        Result of the transform, an element of the range.\u001b[39;00m\n\u001b[0;32m    316\u001b[0m \u001b[39m    \"\"\"\u001b[39;00m\n\u001b[1;32m--> 317\u001b[0m     \u001b[39mreturn\u001b[39;00m \u001b[39mself\u001b[39m\u001b[39m.\u001b[39mget_impl(\u001b[39mself\u001b[39m\u001b[39m.\u001b[39muse_cache)\u001b[39m.\u001b[39mcall_forward(x, out, \u001b[39m*\u001b[39m\u001b[39m*\u001b[39mkwargs)\n",
      "File \u001b[1;32mc:\\Users\\salom\\anaconda3\\envs\\KEX\\lib\\site-packages\\odl\\tomo\\backends\\util.py:47\u001b[0m, in \u001b[0;36m_add_default_complex_impl.<locals>.wrapper\u001b[1;34m(self, x, out, **kwargs)\u001b[0m\n\u001b[0;32m     44\u001b[0m \u001b[39m@wraps\u001b[39m(fn)\n\u001b[0;32m     45\u001b[0m \u001b[39mdef\u001b[39;00m \u001b[39mwrapper\u001b[39m(\u001b[39mself\u001b[39m, x, out\u001b[39m=\u001b[39m\u001b[39mNone\u001b[39;00m, \u001b[39m*\u001b[39m\u001b[39m*\u001b[39mkwargs):\n\u001b[0;32m     46\u001b[0m     \u001b[39mif\u001b[39;00m \u001b[39mself\u001b[39m\u001b[39m.\u001b[39mvol_space\u001b[39m.\u001b[39mis_real \u001b[39mand\u001b[39;00m \u001b[39mself\u001b[39m\u001b[39m.\u001b[39mproj_space\u001b[39m.\u001b[39mis_real:\n\u001b[1;32m---> 47\u001b[0m         \u001b[39mreturn\u001b[39;00m fn(\u001b[39mself\u001b[39m, x, out, \u001b[39m*\u001b[39m\u001b[39m*\u001b[39mkwargs)\n\u001b[0;32m     48\u001b[0m     \u001b[39melif\u001b[39;00m \u001b[39mself\u001b[39m\u001b[39m.\u001b[39mvol_space\u001b[39m.\u001b[39mis_complex \u001b[39mand\u001b[39;00m \u001b[39mself\u001b[39m\u001b[39m.\u001b[39mproj_space\u001b[39m.\u001b[39mis_complex:\n\u001b[0;32m     49\u001b[0m         result_parts \u001b[39m=\u001b[39m [\n\u001b[0;32m     50\u001b[0m             fn(\u001b[39mself\u001b[39m, x\u001b[39m.\u001b[39mreal, \u001b[39mgetattr\u001b[39m(out, \u001b[39m'\u001b[39m\u001b[39mreal\u001b[39m\u001b[39m'\u001b[39m, \u001b[39mNone\u001b[39;00m), \u001b[39m*\u001b[39m\u001b[39m*\u001b[39mkwargs),\n\u001b[0;32m     51\u001b[0m             fn(\u001b[39mself\u001b[39m, x\u001b[39m.\u001b[39mimag, \u001b[39mgetattr\u001b[39m(out, \u001b[39m'\u001b[39m\u001b[39mimag\u001b[39m\u001b[39m'\u001b[39m, \u001b[39mNone\u001b[39;00m), \u001b[39m*\u001b[39m\u001b[39m*\u001b[39mkwargs)\n\u001b[0;32m     52\u001b[0m         ]\n",
      "File \u001b[1;32mc:\\Users\\salom\\anaconda3\\envs\\KEX\\lib\\site-packages\\odl\\tomo\\backends\\astra_cpu.py:345\u001b[0m, in \u001b[0;36mAstraCpuImpl.call_forward\u001b[1;34m(self, x, out, **kwargs)\u001b[0m\n\u001b[0;32m    343\u001b[0m \u001b[39m@_add_default_complex_impl\u001b[39m\n\u001b[0;32m    344\u001b[0m \u001b[39mdef\u001b[39;00m \u001b[39mcall_forward\u001b[39m(\u001b[39mself\u001b[39m, x, out, \u001b[39m*\u001b[39m\u001b[39m*\u001b[39mkwargs):\n\u001b[1;32m--> 345\u001b[0m     \u001b[39mreturn\u001b[39;00m astra_cpu_forward_projector(\n\u001b[0;32m    346\u001b[0m         x, \u001b[39mself\u001b[39m\u001b[39m.\u001b[39mgeometry, \u001b[39mself\u001b[39m\u001b[39m.\u001b[39mproj_space\u001b[39m.\u001b[39mreal_space, out, \u001b[39m*\u001b[39m\u001b[39m*\u001b[39mkwargs\n\u001b[0;32m    347\u001b[0m     )\n",
      "File \u001b[1;32mc:\\Users\\salom\\anaconda3\\envs\\KEX\\lib\\site-packages\\odl\\tomo\\backends\\astra_cpu.py:162\u001b[0m, in \u001b[0;36mastra_cpu_forward_projector\u001b[1;34m(vol_data, geometry, proj_space, out, astra_proj_type)\u001b[0m\n\u001b[0;32m    158\u001b[0m     algo_id \u001b[39m=\u001b[39m astra_algorithm(\u001b[39m'\u001b[39m\u001b[39mforward\u001b[39m\u001b[39m'\u001b[39m, ndim, vol_id, sino_id, proj_id,\n\u001b[0;32m    159\u001b[0m                               impl\u001b[39m=\u001b[39m\u001b[39m'\u001b[39m\u001b[39mcpu\u001b[39m\u001b[39m'\u001b[39m)\n\u001b[0;32m    161\u001b[0m     \u001b[39m# Run algorithm\u001b[39;00m\n\u001b[1;32m--> 162\u001b[0m     astra\u001b[39m.\u001b[39;49malgorithm\u001b[39m.\u001b[39;49mrun(algo_id)\n\u001b[0;32m    164\u001b[0m \u001b[39m# Delete ASTRA objects\u001b[39;00m\n\u001b[0;32m    165\u001b[0m astra\u001b[39m.\u001b[39malgorithm\u001b[39m.\u001b[39mdelete(algo_id)\n",
      "File \u001b[1;32mc:\\Users\\salom\\anaconda3\\envs\\KEX\\lib\\site-packages\\astra\\algorithm.py:47\u001b[0m, in \u001b[0;36mrun\u001b[1;34m(i, iterations)\u001b[0m\n\u001b[0;32m     38\u001b[0m \u001b[39mdef\u001b[39;00m \u001b[39mrun\u001b[39m(i, iterations\u001b[39m=\u001b[39m\u001b[39m1\u001b[39m):\n\u001b[0;32m     39\u001b[0m \u001b[39m    \u001b[39m\u001b[39m\"\"\"Run an algorithm.\u001b[39;00m\n\u001b[0;32m     40\u001b[0m \u001b[39m    \u001b[39;00m\n\u001b[0;32m     41\u001b[0m \u001b[39m    :param i: ID of object.\u001b[39;00m\n\u001b[1;32m   (...)\u001b[0m\n\u001b[0;32m     45\u001b[0m \u001b[39m    \u001b[39;00m\n\u001b[0;32m     46\u001b[0m \u001b[39m    \"\"\"\u001b[39;00m\n\u001b[1;32m---> 47\u001b[0m     \u001b[39mreturn\u001b[39;00m a\u001b[39m.\u001b[39;49mrun(i,iterations)\n",
      "\u001b[1;31mKeyboardInterrupt\u001b[0m: "
     ]
    }
   ],
   "source": [
    "import torch\n",
    "from torch.utils.data import DataLoader, TensorDataset\n",
    "import os\n",
    "import sys\n",
    "SRC = os.path.abspath(\"../\")\n",
    "if not SRC in sys.path:\n",
    "    sys.path.append(SRC)\n",
    "from geometries import FlatFanBeamGeometry, DEVICE\n",
    "from models.fbps import AdaptiiveFBP as AFBP\n",
    "from models.FNOBPs.fnobp import FNO_BP\n",
    "from models.modelbase import plot_model_progress\n",
    "from statistics import mean\n",
    "import matplotlib.pyplot as plt\n",
    "\n",
    "ar = 0.5 #angle ratio\n",
    "DEVICE = torch.device(\"cuda\" if torch.cuda.is_available() else \"cpu\")\n",
    "PHANTOM_DATA = torch.stack(torch.load(\"../../data/HTC2022/HTCTrainingPhantoms.pt\")).to(DEVICE)\n",
    "\n",
    "geometry = FlatFanBeamGeometry(720, 560, 410.66, 543.74, 112, [-40,40, -40, 40], [512, 512])\n",
    "SINO_DATA = geometry.project_forward(PHANTOM_DATA)\n",
    "\n",
    "# model = AFBP(geometry)\n",
    "model = FNO_BP(geometry, hidden_layers=[40,40], modes=geometry.projection_size//4)\n",
    "\n",
    "dataset = TensorDataset(SINO_DATA, PHANTOM_DATA)\n",
    "dataloader = DataLoader(dataset, batch_size=8, shuffle=True)\n",
    "\n",
    "optimizer = torch.optim.Adam(model.parameters(), lr=1e-5)\n",
    "mse_fn = lambda diff : torch.mean(diff**2)\n",
    "n_epochs = 20\n",
    "for epoch in range(n_epochs):\n",
    "    batch_losses = []\n",
    "    for sino_batch, phantom_batch in dataloader:\n",
    "        optimizer.zero_grad()\n",
    "\n",
    "        start_ind = torch.randint(0, geometry.n_projections, (1,)).item()\n",
    "        la_sinos, known_beta_bool = geometry.zero_cropp_sinos(sino_batch, ar=ar, start_ind=start_ind) #known_beta_bool is True at angles where sinogram is meassured and false otherwise\n",
    "        la_sinos = geometry.reflect_fill_sinos(la_sinos, known_beta_bool)\n",
    "        la_sinos = geometry.rotate_sinos(la_sinos, -start_ind) #FNO needs known angles to be in the same region all the time\n",
    "\n",
    "        filtered = model.get_extrapolated_filtered_sinos(la_sinos)\n",
    "        filtered = geometry.rotate_sinos(filtered, start_ind) #rotate back\n",
    "        recons = geometry.project_backward(filtered/2) #sinogram covers 360deg  - double coverage\n",
    "\n",
    "        loss = mse_fn(phantom_batch - recons)\n",
    "        loss.backward()\n",
    "        optimizer.step()\n",
    "\n",
    "        batch_losses.append(loss.cpu().item())\n",
    "    \n",
    "    print(\"Epoch:\", epoch+1, \"loss is:\", mean(batch_losses))"
   ]
  },
  {
   "cell_type": "code",
   "execution_count": null,
   "metadata": {},
   "outputs": [],
   "source": [
    "plot_model_progress(model, geometry, geometry.reflect_fill_sinos(*geometry.zero_cropp_sinos(SINO_DATA, ar, 0)), SINO_DATA, PHANTOM_DATA)"
   ]
  }
 ],
 "metadata": {
  "kernelspec": {
   "display_name": "KEX",
   "language": "python",
   "name": "python3"
  },
  "language_info": {
   "codemirror_mode": {
    "name": "ipython",
    "version": 3
   },
   "file_extension": ".py",
   "mimetype": "text/x-python",
   "name": "python",
   "nbconvert_exporter": "python",
   "pygments_lexer": "ipython3",
   "version": "3.10.9"
  },
  "orig_nbformat": 4
 },
 "nbformat": 4,
 "nbformat_minor": 2
}
