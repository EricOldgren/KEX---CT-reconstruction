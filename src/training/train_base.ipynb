{
 "cells": [
  {
   "cell_type": "code",
   "execution_count": 1,
   "metadata": {},
   "outputs": [
    {
     "name": "stderr",
     "output_type": "stream",
     "text": [
      "/home/ubuntu/anaconda3/envs/odl_torch/lib/python3.10/site-packages/tqdm/auto.py:21: TqdmWarning: IProgress not found. Please update jupyter and ipywidgets. See https://ipywidgets.readthedocs.io/en/stable/user_install.html\n",
      "  from .autonotebook import tqdm as notebook_tqdm\n"
     ]
    },
    {
     "name": "stdout",
     "output_type": "stream",
     "text": [
      "/home/ubuntu/KEX---CT-reconstruction/src\n"
     ]
    }
   ],
   "source": [
    "import torch\n",
    "from torch.utils.data import DataLoader, TensorDataset\n",
    "import torch.nn.functional as F\n",
    "import sys\n",
    "from pathlib import Path\n",
    "import matplotlib\n",
    "import matplotlib.pyplot as plt\n",
    "GIT_ROOT = Path(\"../..\").resolve()\n",
    "SRC = GIT_ROOT / \"src\"\n",
    "print(SRC)\n",
    "if not SRC in sys.path:\n",
    "    sys.path.append(str(SRC))"
   ]
  },
  {
   "cell_type": "code",
   "execution_count": 2,
   "metadata": {},
   "outputs": [
    {
     "name": "stdout",
     "output_type": "stream",
     "text": [
      "torch.Size([584, 512, 512])\n",
      "torch.Size([584, 720, 560])\n"
     ]
    }
   ],
   "source": [
    "from utils.data import get_htc2022_train_phantoms, get_htc_trainval_phantoms\n",
    "from geometries import HTC2022_GEOMETRY\n",
    "\n",
    "PHANTOMS, VALIDATION_PHANTOMS = get_htc_trainval_phantoms()\n",
    "geometry = HTC2022_GEOMETRY\n",
    "ar = 0.25\n",
    "SINOS = geometry.project_forward(PHANTOMS)\n",
    "\n",
    "print(PHANTOMS.shape)\n",
    "print(SINOS.shape)"
   ]
  },
  {
   "cell_type": "code",
   "execution_count": 4,
   "metadata": {},
   "outputs": [
    {
     "name": "stdout",
     "output_type": "stream",
     "text": [
      "k: 1 res mse: tensor(32.8191, device='cuda:0')\n",
      "k: 2 res mse: tensor(5.0299, device='cuda:0')\n",
      "k: 3 res mse: tensor(5.5388, device='cuda:0')\n",
      "k: 4 res mse: tensor(3.5794, device='cuda:0')\n",
      "k: 5 res mse: tensor(2.7306, device='cuda:0')\n",
      "k: 6 res mse: tensor(2.1879, device='cuda:0')\n",
      "k: 7 res mse: tensor(2.2033, device='cuda:0')\n",
      "k: 8 res mse: tensor(1.9402, device='cuda:0')\n",
      "k: 9 res mse: tensor(1.8013, device='cuda:0')\n",
      "k: 10 res mse: tensor(1.5963, device='cuda:0')\n",
      "k: 11 res mse: tensor(1.3591, device='cuda:0')\n",
      "k: 12 res mse: tensor(1.1652, device='cuda:0')\n",
      "k: 13 res mse: tensor(1.1747, device='cuda:0')\n",
      "k: 14 res mse: tensor(1.2120, device='cuda:0')\n",
      "k: 15 res mse: tensor(1.2495, device='cuda:0')\n",
      "k: 16 res mse: tensor(1.2651, device='cuda:0')\n",
      "k: 17 res mse: tensor(1.2533, device='cuda:0')\n",
      "k: 18 res mse: tensor(1.2351, device='cuda:0')\n",
      "k: 19 res mse: tensor(1.2650, device='cuda:0')\n",
      "k: 20 res mse: tensor(1.2519, device='cuda:0')\n",
      "k: 21 res mse: tensor(1.2074, device='cuda:0')\n",
      "k: 22 res mse: tensor(1.1438, device='cuda:0')\n",
      "k: 23 res mse: tensor(1.0727, device='cuda:0')\n",
      "k: 24 res mse: tensor(1.0191, device='cuda:0')\n",
      "k: 25 res mse: tensor(0.9890, device='cuda:0')\n",
      "torch.Size([584, 720, 560])\n",
      "Extrapolation MSE: tensor(30.0188, device='cuda:0')\n"
     ]
    }
   ],
   "source": [
    "from geometries.extrapolation import extrapolate_fixpoint, extrapolate_cgm\n",
    "from utils.polynomials import Legendre, Chebyshev\n",
    "from utils.tools import MSE\n",
    "\n",
    "M, K = 50, 50\n",
    "la_sinos, knwon_angles = geometry.zero_cropp_sinos(SINOS, ar, 0)\n",
    "exp = extrapolate_cgm(la_sinos, ar, geometry, M, K, PolynomialFamily=Legendre, tol=1.0)\n",
    "la_sinos[:, ~knwon_angles] = exp[:, ~knwon_angles]\n",
    "\n",
    "print(la_sinos.shape)\n",
    "print(\"Extrapolation MSE:\", MSE(la_sinos, SINOS))"
   ]
  },
  {
   "cell_type": "code",
   "execution_count": 6,
   "metadata": {},
   "outputs": [],
   "source": [
    "torch.save(la_sinos, GIT_ROOT / \"data/exp_cgm_training_sinos.pt\")\n",
    "# la_sinos = torch.load(GIT_ROOT / \"data/exp_training_sinos.pt\")\n",
    "# print(la_sinos.shape)"
   ]
  },
  {
   "cell_type": "code",
   "execution_count": 7,
   "metadata": {},
   "outputs": [
    {
     "data": {
      "text/plain": [
       "1745"
      ]
     },
     "execution_count": 7,
     "metadata": {},
     "output_type": "execute_result"
    }
   ],
   "source": [
    "import gc\n",
    "torch.cuda.empty_cache()\n",
    "gc.collect()"
   ]
  },
  {
   "cell_type": "code",
   "execution_count": 8,
   "metadata": {},
   "outputs": [
    {
     "name": "stdout",
     "output_type": "stream",
     "text": [
      "|===========================================================================|\n",
      "|                  PyTorch CUDA memory summary, device ID 0                 |\n",
      "|---------------------------------------------------------------------------|\n",
      "|            CUDA OOMs: 0            |        cudaMalloc retries: 0         |\n",
      "|===========================================================================|\n",
      "|        Metric         | Cur Usage  | Peak Usage | Tot Alloc  | Tot Freed  |\n",
      "|---------------------------------------------------------------------------|\n",
      "| Allocated memory      |    3283 MB |   11458 MB |  446553 MB |  443270 MB |\n",
      "|       from large pool |    3283 MB |   11457 MB |  444773 MB |  441489 MB |\n",
      "|       from small pool |       0 MB |       1 MB |    1780 MB |    1780 MB |\n",
      "|---------------------------------------------------------------------------|\n",
      "| Active memory         |    3283 MB |   11458 MB |  446553 MB |  443270 MB |\n",
      "|       from large pool |    3283 MB |   11457 MB |  444773 MB |  441489 MB |\n",
      "|       from small pool |       0 MB |       1 MB |    1780 MB |    1780 MB |\n",
      "|---------------------------------------------------------------------------|\n",
      "| GPU reserved memory   |    8762 MB |   11960 MB |   11960 MB |    3198 MB |\n",
      "|       from large pool |    8760 MB |   11958 MB |   11958 MB |    3198 MB |\n",
      "|       from small pool |       2 MB |       2 MB |       2 MB |       0 MB |\n",
      "|---------------------------------------------------------------------------|\n",
      "| Non-releasable memory |    1882 MB |    2766 MB |  515538 MB |  513656 MB |\n",
      "|       from large pool |    1880 MB |    2764 MB |  513756 MB |  511876 MB |\n",
      "|       from small pool |       1 MB |       1 MB |    1782 MB |    1780 MB |\n",
      "|---------------------------------------------------------------------------|\n",
      "| Allocations           |      12    |     105    |   60611    |   60599    |\n",
      "|       from large pool |       5    |      33    |    5166    |    5161    |\n",
      "|       from small pool |       7    |      77    |   55445    |   55438    |\n",
      "|---------------------------------------------------------------------------|\n",
      "| Active allocs         |      12    |     105    |   60611    |   60599    |\n",
      "|       from large pool |       5    |      33    |    5166    |    5161    |\n",
      "|       from small pool |       7    |      77    |   55445    |   55438    |\n",
      "|---------------------------------------------------------------------------|\n",
      "| GPU reserved segments |       8    |      11    |      11    |       3    |\n",
      "|       from large pool |       7    |      10    |      10    |       3    |\n",
      "|       from small pool |       1    |       1    |       1    |       0    |\n",
      "|---------------------------------------------------------------------------|\n",
      "| Non-releasable allocs |       9    |      20    |   21508    |   21499    |\n",
      "|       from large pool |       7    |      12    |    3415    |    3408    |\n",
      "|       from small pool |       2    |       9    |   18093    |   18091    |\n",
      "|---------------------------------------------------------------------------|\n",
      "| Oversize allocations  |       0    |       0    |       0    |       0    |\n",
      "|---------------------------------------------------------------------------|\n",
      "| Oversize GPU segments |       0    |       0    |       0    |       0    |\n",
      "|===========================================================================|\n",
      "\n"
     ]
    }
   ],
   "source": [
    "import torch\n",
    "print(torch.cuda.memory_summary())"
   ]
  },
  {
   "cell_type": "code",
   "execution_count": 12,
   "metadata": {},
   "outputs": [
    {
     "ename": "AttributeError",
     "evalue": "'NoneType' object has no attribute 'shape'",
     "output_type": "error",
     "traceback": [
      "\u001b[0;31m---------------------------------------------------------------------------\u001b[0m",
      "\u001b[0;31mAttributeError\u001b[0m                            Traceback (most recent call last)",
      "\u001b[1;32m/home/ubuntu/KEX---CT-reconstruction/src/training/train_base.ipynb Cell 7\u001b[0m line \u001b[0;36m2\n\u001b[1;32m     <a href='vscode-notebook-cell://ssh-remote%2B7b22686f73744e616d65223a223134312e3134382e36372e323039222c2275736572223a227562756e7475227d/home/ubuntu/KEX---CT-reconstruction/src/training/train_base.ipynb#W2sdnNjb2RlLXJlbW90ZQ%3D%3D?line=20'>21</a>\u001b[0m \u001b[39mfor\u001b[39;00m la_sino_batch, phantom_batch \u001b[39min\u001b[39;00m dataloader:\n\u001b[1;32m     <a href='vscode-notebook-cell://ssh-remote%2B7b22686f73744e616d65223a223134312e3134382e36372e323039222c2275736572223a227562756e7475227d/home/ubuntu/KEX---CT-reconstruction/src/training/train_base.ipynb#W2sdnNjb2RlLXJlbW90ZQ%3D%3D?line=21'>22</a>\u001b[0m     optimizer\u001b[39m.\u001b[39mzero_grad()\n\u001b[0;32m---> <a href='vscode-notebook-cell://ssh-remote%2B7b22686f73744e616d65223a223134312e3134382e36372e323039222c2275736572223a227562756e7475227d/home/ubuntu/KEX---CT-reconstruction/src/training/train_base.ipynb#W2sdnNjb2RlLXJlbW90ZQ%3D%3D?line=23'>24</a>\u001b[0m     recons \u001b[39m=\u001b[39m model\u001b[39m.\u001b[39;49mforward(la_sinos, \u001b[39mNone\u001b[39;49;00m)\n\u001b[1;32m     <a href='vscode-notebook-cell://ssh-remote%2B7b22686f73744e616d65223a223134312e3134382e36372e323039222c2275736572223a227562756e7475227d/home/ubuntu/KEX---CT-reconstruction/src/training/train_base.ipynb#W2sdnNjb2RlLXJlbW90ZQ%3D%3D?line=25'>26</a>\u001b[0m     loss \u001b[39m=\u001b[39m MSE(recons, phantom_batch)\n\u001b[1;32m     <a href='vscode-notebook-cell://ssh-remote%2B7b22686f73744e616d65223a223134312e3134382e36372e323039222c2275736572223a227562756e7475227d/home/ubuntu/KEX---CT-reconstruction/src/training/train_base.ipynb#W2sdnNjb2RlLXJlbW90ZQ%3D%3D?line=26'>27</a>\u001b[0m     loss\u001b[39m.\u001b[39mbackward()\n",
      "File \u001b[0;32m~/KEX---CT-reconstruction/src/models/fbps.py:36\u001b[0m, in \u001b[0;36mAdaptiveFBP.forward\u001b[0;34m(self, sinos, known_angles, out_angles)\u001b[0m\n\u001b[1;32m     35\u001b[0m \u001b[39mdef\u001b[39;00m \u001b[39mforward\u001b[39m(\u001b[39mself\u001b[39m, sinos: torch\u001b[39m.\u001b[39mTensor, known_angles: torch\u001b[39m.\u001b[39mTensor, out_angles: torch\u001b[39m.\u001b[39mTensor \u001b[39m=\u001b[39m \u001b[39mNone\u001b[39;00m):\n\u001b[0;32m---> 36\u001b[0m     \u001b[39mreturn\u001b[39;00m F\u001b[39m.\u001b[39mrelu(\u001b[39mself\u001b[39m\u001b[39m.\u001b[39mgeometry\u001b[39m.\u001b[39mproject_backward(\u001b[39mself\u001b[39;49m\u001b[39m.\u001b[39;49mget_extrapolated_filtered_sinos(sinos, known_angles, out_angles)\u001b[39m/\u001b[39m\u001b[39m2\u001b[39m))\n",
      "File \u001b[0;32m~/KEX---CT-reconstruction/src/models/fbps.py:32\u001b[0m, in \u001b[0;36mAdaptiveFBP.get_extrapolated_filtered_sinos\u001b[0;34m(self, sinos, known_angles, out_angles)\u001b[0m\n\u001b[1;32m     30\u001b[0m \u001b[39mdef\u001b[39;00m \u001b[39mget_extrapolated_filtered_sinos\u001b[39m(\u001b[39mself\u001b[39m, sinos: torch\u001b[39m.\u001b[39mTensor, known_angles: torch\u001b[39m.\u001b[39mTensor, out_angles: torch\u001b[39m.\u001b[39mTensor \u001b[39m=\u001b[39m \u001b[39mNone\u001b[39;00m):\n\u001b[1;32m     31\u001b[0m     \u001b[39m\"\u001b[39m\u001b[39monly first argument used\u001b[39m\u001b[39m\"\u001b[39m\n\u001b[0;32m---> 32\u001b[0m     \u001b[39mreturn\u001b[39;00m \u001b[39mself\u001b[39m\u001b[39m.\u001b[39mgeometry\u001b[39m.\u001b[39minverse_fourier_transform(\u001b[39mself\u001b[39m\u001b[39m.\u001b[39mgeometry\u001b[39m.\u001b[39mfourier_transform(\u001b[39mself\u001b[39;49m\u001b[39m.\u001b[39;49mget_extrapolated_sinos(sinos, known_angles, out_angles)\u001b[39m*\u001b[39m\u001b[39mself\u001b[39m\u001b[39m.\u001b[39mgeometry\u001b[39m.\u001b[39mjacobian_det)\u001b[39m*\u001b[39m\u001b[39mself\u001b[39m\u001b[39m.\u001b[39mkernel)\n",
      "File \u001b[0;32m~/KEX---CT-reconstruction/src/models/fbps.py:27\u001b[0m, in \u001b[0;36mAdaptiveFBP.get_extrapolated_sinos\u001b[0;34m(self, sinos, known_angles, out_angles)\u001b[0m\n\u001b[1;32m     25\u001b[0m \u001b[39m\"\u001b[39m\u001b[39mAFBP does no extrapolation, returns input\u001b[39m\u001b[39m\"\u001b[39m\n\u001b[1;32m     26\u001b[0m res \u001b[39m=\u001b[39m sinos \u001b[39m+\u001b[39m \u001b[39m0\u001b[39m\n\u001b[0;32m---> 27\u001b[0m \u001b[39mself\u001b[39;49m\u001b[39m.\u001b[39;49mgeometry\u001b[39m.\u001b[39;49mreflect_fill_sinos(res, known_angles)\n\u001b[1;32m     28\u001b[0m \u001b[39mreturn\u001b[39;00m res\n",
      "File \u001b[0;32m~/KEX---CT-reconstruction/src/geometries/fanbeam_geometry/fanbeam_geometry.py:185\u001b[0m, in \u001b[0;36mFlatFanBeamGeometry.reflect_fill_sinos\u001b[0;34m(self, sinos, known_beta_bools, linear_interpolation)\u001b[0m\n\u001b[1;32m    178\u001b[0m \u001b[39mdef\u001b[39;00m \u001b[39mreflect_fill_sinos\u001b[39m(\u001b[39mself\u001b[39m, sinos: torch\u001b[39m.\u001b[39mTensor, known_beta_bools: torch\u001b[39m.\u001b[39mTensor, linear_interpolation \u001b[39m=\u001b[39m \u001b[39mFalse\u001b[39;00m):\n\u001b[1;32m    179\u001b[0m \u001b[39m    \u001b[39m\u001b[39m\"\"\"\u001b[39;00m\n\u001b[1;32m    180\u001b[0m \u001b[39m        in place flling of limited angle sinograms\u001b[39;00m\n\u001b[1;32m    181\u001b[0m \u001b[39m        applied on full 360deg sinograms, fills unknown region of sinogram by finding equivalent lines on opposite side\u001b[39;00m\n\u001b[1;32m    182\u001b[0m \n\u001b[1;32m    183\u001b[0m \u001b[39m        return sinos, new_known_region\u001b[39;00m\n\u001b[1;32m    184\u001b[0m \u001b[39m    \"\"\"\u001b[39;00m\n\u001b[0;32m--> 185\u001b[0m     \u001b[39massert\u001b[39;00m known_beta_bools\u001b[39m.\u001b[39;49mshape \u001b[39m==\u001b[39m (\u001b[39mself\u001b[39m\u001b[39m.\u001b[39mNb,)\n\u001b[1;32m    186\u001b[0m     Nunknown \u001b[39m=\u001b[39m \u001b[39mint\u001b[39m((\u001b[39m~\u001b[39mknown_beta_bools)\u001b[39m.\u001b[39msum())\n\u001b[1;32m    187\u001b[0m     unknown_betas \u001b[39m=\u001b[39m \u001b[39mself\u001b[39m\u001b[39m.\u001b[39mbetas[\u001b[39m~\u001b[39mknown_beta_bools]\u001b[39m.\u001b[39mrepeat(\u001b[39m1\u001b[39m, \u001b[39mself\u001b[39m\u001b[39m.\u001b[39mNu) \u001b[39m#shape Nunknonw x Nu\u001b[39;00m\n",
      "\u001b[0;31mAttributeError\u001b[0m: 'NoneType' object has no attribute 'shape'"
     ]
    }
   ],
   "source": [
    "from models.FNOBPs.fnobp import FNO_BP\n",
    "from statistics import mean\n",
    "from utils.tools import MSE\n",
    "from geometries import HTC2022_GEOMETRY\n",
    "import gc\n",
    "\n",
    "from models.fbps import AdaptiveFBP\n",
    "geometry = HTC2022_GEOMETRY\n",
    "ar = 0.25 #angle ratio of full 360 deg scan\n",
    "\n",
    "# model = FNO_BP(geometry, [40, 40])\n",
    "model = AdaptiveFBP(geometry)\n",
    "\n",
    "dataset = TensorDataset(la_sinos, PHANTOMS)\n",
    "dataloader = DataLoader(dataset, batch_size=1, shuffle=True)\n",
    "\n",
    "optimizer = torch.optim.Adam(model.parameters(), lr=3e-4, weight_decay=1e-6)\n",
    "n_epochs = 300\n",
    "for epoch in range(n_epochs):\n",
    "    batch_losses = []\n",
    "    for la_sino_batch, phantom_batch in dataloader:\n",
    "        optimizer.zero_grad()\n",
    "\n",
    "        recons = model.forward(la_sinos, knwon_angles)\n",
    "        \n",
    "        loss = MSE(recons, phantom_batch)\n",
    "        loss.backward()\n",
    "\n",
    "        optimizer.step()\n",
    "        batch_losses.append(loss.cpu().item())\n",
    "    \n",
    "    print(\"Epoch:\", epoch+1, \"loss is:\", mean(batch_losses))"
   ]
  },
  {
   "cell_type": "code",
   "execution_count": 10,
   "metadata": {},
   "outputs": [
    {
     "name": "stdout",
     "output_type": "stream",
     "text": [
      "========================================\n",
      "Series_BP\n",
      "sinogram mse: tensor(2913.8262, device='cuda:0')\n",
      "filterd sinogram mse:  tensor(2473.3689, device='cuda:0')\n",
      "reconstruction mse:  tensor(0.9016, device='cuda:0', dtype=torch.float64)\n",
      "========================================\n",
      "FBP\n",
      "sinogram mse: tensor(1245.4938, device='cuda:0')\n",
      "filterd sinogram mse:  tensor(2484.3323, device='cuda:0')\n",
      "reconstruction mse:  tensor(0.1939, device='cuda:0', dtype=torch.float64)\n"
     ]
    }
   ],
   "source": [
    "from models.fbps import FBP\n",
    "from models.modelbase import evaluate_batches\n",
    "fbp = FBP(model.geometry)\n",
    "#Clear previous plots\n",
    "for i in plt.get_fignums():\n",
    "    plt.figure(i)\n",
    "    plt.close()\n",
    "\n",
    "VALIDATION_SINOS = geometry.project_forward(VALIDATION_PHANTOMS)\n",
    "validation_la, known_angles_validation = geometry.zero_cropp_sinos(VALIDATION_SINOS, ar, 0)\n",
    "exp_validation = extrapolate_fixpoint(validation_la, known_angles_validation, geometry, M, K, PolynomialFamily=Legendre)\n",
    "validation_la[:, ~known_angles_validation] = exp_validation[:, ~known_angles_validation]\n",
    "\n",
    "disp_ind = 2\n",
    "recons = model(validation_la)\n",
    "evaluate_batches(recons, VALIDATION_PHANTOMS, disp_ind, title=\"FNO recons\")"
   ]
  },
  {
   "cell_type": "code",
   "execution_count": 9,
   "metadata": {},
   "outputs": [
    {
     "name": "stdout",
     "output_type": "stream",
     "text": [
      "model saved to /home/emastr/deep-limited-angle/KEX---CT-reconstruction/data/models/fno_bp_fanbeamkits_ar0.25.pt\n"
     ]
    }
   ],
   "source": [
    "#Save model\n",
    "modelname = \"fno_bp\"\n",
    "from models.modelbase import save_model_checkpoint\n",
    "save_path = GIT_ROOT / \"data\" / \"models\" / (modelname + \".pt\")\n",
    "save_model_checkpoint(model, optimizer, loss, ar, save_path)\n",
    "print(\"model saved to\", save_path)"
   ]
  },
  {
   "cell_type": "code",
   "execution_count": null,
   "metadata": {},
   "outputs": [],
   "source": []
  }
 ],
 "metadata": {
  "kernelspec": {
   "display_name": "Python 3",
   "language": "python",
   "name": "python3"
  },
  "language_info": {
   "codemirror_mode": {
    "name": "ipython",
    "version": 3
   },
   "file_extension": ".py",
   "mimetype": "text/x-python",
   "name": "python",
   "nbconvert_exporter": "python",
   "pygments_lexer": "ipython3",
   "version": "3.10.13"
  },
  "orig_nbformat": 4
 },
 "nbformat": 4,
 "nbformat_minor": 2
}
