{
 "cells": [
  {
   "cell_type": "code",
   "execution_count": null,
   "metadata": {},
   "outputs": [],
   "source": [
    "import torch\n",
    "from torch.utils.data import DataLoader, TensorDataset\n",
    "import os\n",
    "import sys\n",
    "SRC = os.abspath(\"../\")\n",
    "if not SRC in sys.path:\n",
    "    sys.path.append(SRC)\n",
    "from geometries import FlatFanBeamGeometry, DEVICE\n",
    "from models.fbps import AdaptiiveFBP as AFBP\n",
    "from models.FNOBPs.fnobp import FNO_BP\n",
    "from models.modelbase import plot_model_progress\n",
    "from statistics import mean\n",
    "import matplotlib.pyplot as plt\n",
    "\n",
    "ar = 0.5 #angle ratio\n",
    "DEVICE = torch.device(\"cuda\" if torch.cuda.is_available() else \"cpu\")\n",
    "PHANTOM_DATA = torch.stack(torch.load(\"data/HTC2022/HTCTrainingPhantoms.pt\")).to(DEVICE)\n",
    "\n",
    "geometry = FlatFanBeamGeometry(720, 560, 410.66, 543.74, 112, [-40,40, -40, 40], [512, 512])\n",
    "SINO_DATA = geometry.project_forward(PHANTOM_DATA)\n",
    "\n",
    "# model = AFBP(geometry)\n",
    "model = FNO_BP(geometry, hidden_layers=[40,40], modes=geometry.projection_size//4)\n",
    "\n",
    "dataset = TensorDataset(SINO_DATA, PHANTOM_DATA)\n",
    "dataloader = DataLoader(dataset, batch_size=8, shuffle=True)\n",
    "\n",
    "optimizer = torch.optim.Adam(model.parameters(), lr=1e-5)\n",
    "mse_fn = lambda diff : torch.mean(diff**2)\n",
    "n_epochs = 20\n",
    "for epoch in range(n_epochs):\n",
    "    batch_losses = []\n",
    "    for sino_batch, phantom_batch in dataloader:\n",
    "        optimizer.zero_grad()\n",
    "\n",
    "        start_ind = torch.randint(0, geometry.n_projections, (1,)).item()\n",
    "        la_sinos, known_beta_bool = geometry.zero_cropp_sinos(sino_batch, ar=ar, start_ind=start_ind) #known_beta_bool is True at angles where sinogram is meassured and false otherwise\n",
    "        la_sinos = geometry.reflect_fill_sinos(la_sinos, known_beta_bool)\n",
    "        la_sinos = geometry.rotate_sinos(la_sinos, -start_ind) #FNO needs known angles to be in the same region all the time\n",
    "\n",
    "        filtered = model.get_extrapolated_filtered_sinos(la_sinos)\n",
    "        filtered = geometry.rotate_sinos(filtered, start_ind) #rotate back\n",
    "        recons = geometry.project_backward(filtered/2) #sinogram covers 360deg  - double coverage\n",
    "\n",
    "        loss = mse_fn(phantom_batch - recons)\n",
    "        loss.backward()\n",
    "        optimizer.step()\n",
    "\n",
    "        batch_losses.append(loss.cpu().item())\n",
    "    \n",
    "    print(\"Epoch:\", epoch+1, \"loss is:\", mean(batch_losses))"
   ]
  },
  {
   "cell_type": "code",
   "execution_count": null,
   "metadata": {},
   "outputs": [],
   "source": [
    "plot_model_progress(model, geometry, geometry.reflect_fill_sinos(*geometry.zero_cropp_sinos(SINO_DATA, ar, 0)), SINO_DATA, PHANTOM_DATA)"
   ]
  }
 ],
 "metadata": {
  "kernelspec": {
   "display_name": "KEX",
   "language": "python",
   "name": "python3"
  },
  "language_info": {
   "name": "python",
   "version": "3.10.9"
  },
  "orig_nbformat": 4
 },
 "nbformat": 4,
 "nbformat_minor": 2
}
