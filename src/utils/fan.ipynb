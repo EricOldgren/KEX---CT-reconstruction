{
 "cells": [
  {
   "cell_type": "code",
   "execution_count": 9,
   "metadata": {},
   "outputs": [
    {
     "name": "stdout",
     "output_type": "stream",
     "text": [
      "0.06346651911735535\n",
      "0.06346651825433926\n",
      "8.63016089147628e-10\n",
      "2.220446049250313e-16\n",
      "0.0\n"
     ]
    }
   ],
   "source": [
    "import torch\n",
    "\n",
    "N = 100\n",
    "x = torch.linspace(0, 2*torch.pi, N)\n",
    "\n",
    "dx1 = torch.mean(x[1:] - x[:-1])\n",
    "dx2 = (2*torch.pi / (N-1))\n",
    "\n",
    "print(dx1.item())\n",
    "print(dx2)\n",
    "\n",
    "print(dx1.item() - dx2)\n",
    "print(torch.finfo(float).eps)\n",
    "\n",
    "print((x[1] + 2*dx1 - x[3]).item())"
   ]
  },
  {
   "cell_type": "code",
   "execution_count": 18,
   "metadata": {},
   "outputs": [],
   "source": [
    "x2 = torch.arange(0, 2*torch.pi+dx2, dx2)"
   ]
  },
  {
   "cell_type": "code",
   "execution_count": 40,
   "metadata": {},
   "outputs": [
    {
     "data": {
      "text/plain": [
       "tensor([ 0.0000,  0.2041,  0.4082,  0.6122,  0.8163,  1.0204,  1.2245,  1.4286,\n",
       "         1.6327,  1.8367,  2.0408,  2.2449,  2.4490,  2.6531,  2.8571,  3.0612,\n",
       "         3.2653,  3.4694,  3.6735,  3.8776,  4.0816,  4.2857,  4.4898,  4.6939,\n",
       "         4.8980,  5.1020,  5.3061,  5.5102,  5.7143,  5.9184,  6.1224,  6.3265,\n",
       "         6.5306,  6.7347,  6.9388,  7.1429,  7.3469,  7.5510,  7.7551,  7.9592,\n",
       "         8.1633,  8.3673,  8.5714,  8.7755,  8.9796,  9.1837,  9.3878,  9.5918,\n",
       "         9.7959, 10.0000])"
      ]
     },
     "execution_count": 40,
     "metadata": {},
     "output_type": "execute_result"
    }
   ],
   "source": [
    "torch.linspace(0, 10,50)"
   ]
  },
  {
   "cell_type": "code",
   "execution_count": 38,
   "metadata": {},
   "outputs": [
    {
     "name": "stdout",
     "output_type": "stream",
     "text": [
      "torch.Size([4, 2, 2])\n",
      "torch.Size([4, 2, 1])\n"
     ]
    },
    {
     "data": {
      "text/plain": [
       "tensor([[[ 1],\n",
       "         [10]],\n",
       "\n",
       "        [[ 2],\n",
       "         [10]],\n",
       "\n",
       "        [[ 3],\n",
       "         [10]],\n",
       "\n",
       "        [[ 4],\n",
       "         [10]]])"
      ]
     },
     "execution_count": 38,
     "metadata": {},
     "output_type": "execute_result"
    }
   ],
   "source": [
    "ns = torch.tensor([[1.0,0], [-1.0, 0], [0,1.0], [0,-1.0]])\n",
    "vals = torch.tensor([1,2,3,4])\n",
    "a = torch.tensor(10)\n",
    "l = torch.tensor([1, 1.0]) / 2**0.5\n",
    "\n",
    "#l[None, None].repeat(4,1,1)\n",
    "\n",
    "print((torch.stack([ns, l.reshape(1,2).repeat(4,1)], dim=1)).shape)\n",
    "\n",
    "a.nelement\n",
    "\n",
    "print((torch.stack([vals, a[None].repeat(4)], dim=1)[...,None]).shape)\n",
    "torch.stack([vals, a.reshape(1).repeat(4)], dim=1).reshape(4,2,1)\n",
    "\n",
    "a.ne\n",
    "#torch.concat([ns, l[None, None].repeat(4,1,1)], dim=1)"
   ]
  },
  {
   "cell_type": "code",
   "execution_count": 19,
   "metadata": {},
   "outputs": [
    {
     "data": {
      "text/plain": [
       "<function Tensor.repeat>"
      ]
     },
     "execution_count": 19,
     "metadata": {},
     "output_type": "execute_result"
    }
   ],
   "source": [
    "l.repeat"
   ]
  },
  {
   "cell_type": "code",
   "execution_count": 27,
   "metadata": {},
   "outputs": [
    {
     "data": {
      "text/plain": [
       "<function torch.nn.functional.pad>"
      ]
     },
     "execution_count": 27,
     "metadata": {},
     "output_type": "execute_result"
    }
   ],
   "source": [
    "torch.nn.functional"
   ]
  },
  {
   "cell_type": "code",
   "execution_count": null,
   "metadata": {},
   "outputs": [],
   "source": [
    "def _project_forward(data: torch.Tensor, Xs: torch.Tensor, Ys: torch.Tensor, betas: torch.Tensor, us: torch.Tensor, R: float, DEVICE: torch.device):\n",
    "    N_samples, H, W = data.shape\n",
    "    Xs, Ys = Xs.reshape(-1), Ys.reshape(-1)\n",
    "    Xmin, Xmax, Ymin, Ymax = Xs[0], Xs[-1], Ys[0], Ys[-1]\n",
    "    dX, dY = torch.mean(Xs[1:]-Xs[:-1]), torch.mean(Ys[1:] - Ys[:-1])\n",
    "\n",
    "    N_line_points = 2*(((Xmax - Xmin)**2 + (Ymax-Ymin)**2)**0.5 / dX).to(dtype=torch.int64)\n",
    "    ratios = torch.arange(0, 1.0, 1 / N_line_points)[:, None]\n",
    "\n",
    "    bounding_normals = torch.tensor([[1.0, 0.0], [-1.0, 0.0], [0.0, 1.0], [0.0, -1.0]], device=DEVICE, dtype=torch.float64)\n",
    "    bounding_vals = torch.stack([Xmin, -Xmax, Ymin, -Ymax])\n",
    "\n",
    "    betas, us = betas.reshape(-1, 1), us.reshape(1, -1)\n",
    "    \n",
    "    res = (betas * us * 0).repeat(N_samples, 1, 1)\n",
    "\n",
    "    Nb, _ = betas.shape\n",
    "    _, Nu = us.shape\n",
    "\n",
    "    for i in range(Nb):\n",
    "        for j in range(Nu):\n",
    "            # Define line of Ray\n",
    "            bi, uj = betas[i, 0], us[0, j]\n",
    "            S, P = torch.stack([torch.cos(bi), torch.sin(bi)]) * R,  torch.stack([torch.sin(bi), -torch.cos(bi)])*uj\n",
    "            line_dir = P - S\n",
    "            line_dir /= torch.linalg.norm(line_dir)\n",
    "            line_normal = torch.stack([line_dir[1], -line_dir[0]])\n",
    "            tj = torch.sum(P*line_normal)\n",
    "\n",
    "            # Find line segment in the region\n",
    "            A = torch.stack([bounding_normals, line_normal.reshape(1, 2).repeat(4, 1)], dim=1)\n",
    "            ts = torch.stack([bounding_vals, tj.reshape(1).repeat(4)], dim=1).reshape(4, 2, 1)\n",
    "            intersections: torch.Tensor = torch.linalg.solve(A, ts).reshape(4, 2)\n",
    "            # plot_hepler(data, torch.concat([S[None], P[None]]), dX, dY, 10)\n",
    "            # draw_points_and_grid(Xmin, Xmax, Ymin, Ymax, torch.concat([S[None], P[None], intersections]), S[None] + line_dir[None]*torch.linspace(0,500, 1000)[:, None], line_normal[None]*torch.linspace(0,100,100)[:, None])\n",
    "            on_inside = (torch.einsum(\"nk,ik->in\", bounding_normals, intersections) - bounding_vals > -1e-5).sum(dim=-1) == 4\n",
    "            if on_inside.sum() != 2:\n",
    "                print(f\"no intersections on border found for (i,j)={i},{j}\")\n",
    "                continue\n",
    "            intersections = intersections[on_inside]\n",
    "            # draw_points_and_grid(Xmin, Xmax, Ymin, Ymax, torch.concat([S[None], P[None], intersections]), S[None] + line_dir[None]*torch.linspace(0,500, 1000)[:, None], line_normal[None]*torch.linspace(0,100,100)[:, None])\n",
    "            start, stop = intersections[0], intersections[1]\n",
    "            if torch.sum((intersections[1]-intersections[0])*line_dir) < 0:\n",
    "                start, stop = stop, start\n",
    "            line_segment = stop - start\n",
    "            line_points = start + ratios*line_segment.reshape(1, 2)\n",
    "            dl = torch.linalg.norm(line_segment) / N_line_points\n",
    "\n",
    "            #DEBUG\n",
    "            # print(\"i,j\", i, j)\n",
    "            # print(\"dl\", dl)\n",
    "            # print(\"line_dir\", line_dir)\n",
    "            #DEBUG\n",
    "\n",
    "            # Calculate linearly interpolated values of points along line\n",
    "            inds_X, inds_Y = ((line_points[:, 0] - Xmin) / dX).to(torch.int64), ((line_points[:, 1]- Ymin) / dY).to(torch.int64)\n",
    "            wxs, wys = (line_points[:, 0] - Xs[inds_X]) / dX, (line_points[:, 1] - Ys[inds_Y]) / dY\n",
    "\n",
    "            vals = (data[:,H-1-inds_Y, inds_X]*(1-wxs)*(1-wys) +\n",
    "                    data[:,H-1-(inds_Y+1), inds_X] * wxs * (1-wys) +\n",
    "                    data[:,H-1-inds_Y, inds_X+1]*(1-wxs)*wys +\n",
    "                    data[:,H-1-(inds_Y+1), inds_X+1] * wxs*wys\n",
    "                )\n",
    "            \n",
    "            #DEBUG\n",
    "            # if j > 60:\n",
    "            #     print(wxs)\n",
    "            #     print(wys)\n",
    "            #     disp_img = torch.tensor(data[0].cpu()).to(torch.float64)\n",
    "            #     disp_img[H-inds_Y, inds_X] = (vals[0] * 10 -5)\n",
    "\n",
    "            #     plt.imshow(disp_img)\n",
    "            #     plt.colorbar()\n",
    "            #     plt.show()\n",
    "            #     print(\"hello\")\n",
    "            # #DEBUG\n",
    "            \n",
    "            res[:, i, j] = torch.sum(vals, dim=-1)*dl\n",
    "\n",
    "    return res"
   ]
  }
 ],
 "metadata": {
  "kernelspec": {
   "display_name": "KEX",
   "language": "python",
   "name": "python3"
  },
  "language_info": {
   "codemirror_mode": {
    "name": "ipython",
    "version": 3
   },
   "file_extension": ".py",
   "mimetype": "text/x-python",
   "name": "python",
   "nbconvert_exporter": "python",
   "pygments_lexer": "ipython3",
   "version": "3.10.9"
  },
  "orig_nbformat": 4
 },
 "nbformat": 4,
 "nbformat_minor": 2
}
