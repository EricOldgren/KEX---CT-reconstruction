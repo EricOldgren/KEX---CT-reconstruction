{
 "cells": [
  {
   "cell_type": "code",
   "execution_count": 9,
   "metadata": {},
   "outputs": [
    {
     "name": "stdout",
     "output_type": "stream",
     "text": [
      "0.06346651911735535\n",
      "0.06346651825433926\n",
      "8.63016089147628e-10\n",
      "2.220446049250313e-16\n",
      "0.0\n"
     ]
    }
   ],
   "source": [
    "import torch\n",
    "\n",
    "N = 100\n",
    "x = torch.linspace(0, 2*torch.pi, N)\n",
    "\n",
    "dx1 = torch.mean(x[1:] - x[:-1])\n",
    "dx2 = (2*torch.pi / (N-1))\n",
    "\n",
    "print(dx1.item())\n",
    "print(dx2)\n",
    "\n",
    "print(dx1.item() - dx2)\n",
    "print(torch.finfo(float).eps)\n",
    "\n",
    "print((x[1] + 2*dx1 - x[3]).item())"
   ]
  },
  {
   "cell_type": "code",
   "execution_count": 18,
   "metadata": {},
   "outputs": [],
   "source": [
    "x2 = torch.arange(0, 2*torch.pi+dx2, dx2)"
   ]
  },
  {
   "cell_type": "code",
   "execution_count": 40,
   "metadata": {},
   "outputs": [
    {
     "data": {
      "text/plain": [
       "tensor([ 0.0000,  0.2041,  0.4082,  0.6122,  0.8163,  1.0204,  1.2245,  1.4286,\n",
       "         1.6327,  1.8367,  2.0408,  2.2449,  2.4490,  2.6531,  2.8571,  3.0612,\n",
       "         3.2653,  3.4694,  3.6735,  3.8776,  4.0816,  4.2857,  4.4898,  4.6939,\n",
       "         4.8980,  5.1020,  5.3061,  5.5102,  5.7143,  5.9184,  6.1224,  6.3265,\n",
       "         6.5306,  6.7347,  6.9388,  7.1429,  7.3469,  7.5510,  7.7551,  7.9592,\n",
       "         8.1633,  8.3673,  8.5714,  8.7755,  8.9796,  9.1837,  9.3878,  9.5918,\n",
       "         9.7959, 10.0000])"
      ]
     },
     "execution_count": 40,
     "metadata": {},
     "output_type": "execute_result"
    }
   ],
   "source": [
    "torch.linspace(0, 10,50)"
   ]
  },
  {
   "cell_type": "code",
   "execution_count": 38,
   "metadata": {},
   "outputs": [
    {
     "name": "stdout",
     "output_type": "stream",
     "text": [
      "torch.Size([4, 2, 2])\n",
      "torch.Size([4, 2, 1])\n"
     ]
    },
    {
     "data": {
      "text/plain": [
       "tensor([[[ 1],\n",
       "         [10]],\n",
       "\n",
       "        [[ 2],\n",
       "         [10]],\n",
       "\n",
       "        [[ 3],\n",
       "         [10]],\n",
       "\n",
       "        [[ 4],\n",
       "         [10]]])"
      ]
     },
     "execution_count": 38,
     "metadata": {},
     "output_type": "execute_result"
    }
   ],
   "source": [
    "ns = torch.tensor([[1.0,0], [-1.0, 0], [0,1.0], [0,-1.0]])\n",
    "vals = torch.tensor([1,2,3,4])\n",
    "a = torch.tensor(10)\n",
    "l = torch.tensor([1, 1.0]) / 2**0.5\n",
    "\n",
    "#l[None, None].repeat(4,1,1)\n",
    "\n",
    "print((torch.stack([ns, l.reshape(1,2).repeat(4,1)], dim=1)).shape)\n",
    "\n",
    "a.nelement\n",
    "\n",
    "print((torch.stack([vals, a[None].repeat(4)], dim=1)[...,None]).shape)\n",
    "torch.stack([vals, a.reshape(1).repeat(4)], dim=1).reshape(4,2,1)\n",
    "\n",
    "a.ne\n",
    "#torch.concat([ns, l[None, None].repeat(4,1,1)], dim=1)"
   ]
  },
  {
   "cell_type": "code",
   "execution_count": 19,
   "metadata": {},
   "outputs": [
    {
     "data": {
      "text/plain": [
       "<function Tensor.repeat>"
      ]
     },
     "execution_count": 19,
     "metadata": {},
     "output_type": "execute_result"
    }
   ],
   "source": [
    "l.repeat"
   ]
  },
  {
   "cell_type": "code",
   "execution_count": 27,
   "metadata": {},
   "outputs": [
    {
     "data": {
      "text/plain": [
       "<function torch.nn.functional.pad>"
      ]
     },
     "execution_count": 27,
     "metadata": {},
     "output_type": "execute_result"
    }
   ],
   "source": [
    "torch.nn.functional"
   ]
  },
  {
   "cell_type": "code",
   "execution_count": null,
   "metadata": {},
   "outputs": [],
   "source": []
  }
 ],
 "metadata": {
  "kernelspec": {
   "display_name": "KEX",
   "language": "python",
   "name": "python3"
  },
  "language_info": {
   "codemirror_mode": {
    "name": "ipython",
    "version": 3
   },
   "file_extension": ".py",
   "mimetype": "text/x-python",
   "name": "python",
   "nbconvert_exporter": "python",
   "pygments_lexer": "ipython3",
   "version": "3.10.9"
  },
  "orig_nbformat": 4
 },
 "nbformat": 4,
 "nbformat_minor": 2
}
