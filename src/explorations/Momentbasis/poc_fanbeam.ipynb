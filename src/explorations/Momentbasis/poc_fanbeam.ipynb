{
 "cells": [
  {
   "cell_type": "code",
   "execution_count": 2,
   "metadata": {},
   "outputs": [
    {
     "name": "stdout",
     "output_type": "stream",
     "text": [
      "adding c:\\Users\\salom\\Documents\\code\\KTH\\KEX---CT-reconstruction\\src to python path for imports\n"
     ]
    },
    {
     "name": "stderr",
     "output_type": "stream",
     "text": [
      "c:\\Users\\salom\\anaconda3\\envs\\KEX\\lib\\site-packages\\odl\\tomo\\backends\\astra_cpu.py:318: RuntimeWarning: The 'astra_cpu' backend may be too slow for volumes of this size. Consider using 'astra_cuda' if your machine has an Nvidia GPU.\n",
      "  warnings.warn(\n"
     ]
    },
    {
     "ename": "TypeError",
     "evalue": "can only concatenate tuple (not \"list\") to tuple",
     "output_type": "error",
     "traceback": [
      "\u001b[1;31m---------------------------------------------------------------------------\u001b[0m",
      "\u001b[1;31mTypeError\u001b[0m                                 Traceback (most recent call last)",
      "Cell \u001b[1;32mIn[2], line 37\u001b[0m\n\u001b[0;32m     33\u001b[0m g \u001b[39m=\u001b[39m FlatFanBeamGeometry(beta_size\u001b[39m=\u001b[39mbeta_size, u_size\u001b[39m=\u001b[39mu_size, src_origin\u001b[39m=\u001b[39msrc_radius, src_detector\u001b[39m=\u001b[39msrc_detector,\n\u001b[0;32m     34\u001b[0m                         detector_size\u001b[39m=\u001b[39mpartition[\u001b[39m1\u001b[39m]\u001b[39m-\u001b[39mpartition[\u001b[39m0\u001b[39m], xy_minmax_bounds\u001b[39m=\u001b[39mlims_ravel, reco_shape\u001b[39m=\u001b[39mshape)\n\u001b[0;32m     35\u001b[0m sinos \u001b[39m=\u001b[39m g\u001b[39m.\u001b[39mproject_forward(phantoms)\n\u001b[1;32m---> 37\u001b[0m projected \u001b[39m=\u001b[39m g\u001b[39m.\u001b[39;49mproject_sinos(sinos, Chebyshev, \u001b[39m50\u001b[39;49m, \u001b[39m10\u001b[39;49m)\n\u001b[0;32m     39\u001b[0m recons \u001b[39m=\u001b[39m g\u001b[39m.\u001b[39mfbp_reconstruct(sinos)\n\u001b[0;32m     40\u001b[0m recons_projected \u001b[39m=\u001b[39m g\u001b[39m.\u001b[39mfbp_reconstruct(projected)\n",
      "File \u001b[1;32mc:\\Users\\salom\\Documents\\code\\KTH\\KEX---CT-reconstruction\\src\\geometries\\fanbeam_geometry\\fanbeam_geometry.py:231\u001b[0m, in \u001b[0;36mFlatFanBeamGeometry.project_sinos\u001b[1;34m(self, sinos, PolynomialBasis, N, upsample_ratio)\u001b[0m\n\u001b[0;32m    227\u001b[0m \u001b[39m\u001b[39m\u001b[39m\"\"\"\u001b[39;00m\n\u001b[0;32m    228\u001b[0m \u001b[39m    Project sinos onto subspace of valid sinograms. The infinite basis of this subspace is cutoff for polynomials of degree larger than N.\u001b[39;00m\n\u001b[0;32m    229\u001b[0m \u001b[39m\"\"\"\u001b[39;00m\n\u001b[0;32m    230\u001b[0m bus \u001b[39m=\u001b[39m \u001b[39mself\u001b[39m\u001b[39m.\u001b[39mbetas \u001b[39m*\u001b[39m \u001b[39mself\u001b[39m\u001b[39m.\u001b[39mus\n\u001b[1;32m--> 231\u001b[0m bus \u001b[39m=\u001b[39m linear_upsample(bus) \u001b[39m# increase u resolution\u001b[39;00m\n\u001b[0;32m    232\u001b[0m X \u001b[39m=\u001b[39m linear_upsample(sinos, factor\u001b[39m=\u001b[39mupsample_ratio) \u001b[39m#lineat interpolation of data\u001b[39;00m\n\u001b[0;32m    233\u001b[0m phis \u001b[39m=\u001b[39m bus[\u001b[39m.\u001b[39m\u001b[39m.\u001b[39m\u001b[39m.\u001b[39m,\u001b[39m0\u001b[39m] \u001b[39m+\u001b[39m torch\u001b[39m.\u001b[39marctan(bus[\u001b[39m.\u001b[39m\u001b[39m.\u001b[39m\u001b[39m.\u001b[39m,\u001b[39m1\u001b[39m]\u001b[39m/\u001b[39m\u001b[39mself\u001b[39m\u001b[39m.\u001b[39mR) \u001b[39m-\u001b[39m torch\u001b[39m.\u001b[39mpi\u001b[39m/\u001b[39m\u001b[39m2\u001b[39m\n",
      "File \u001b[1;32mc:\\Users\\salom\\Documents\\code\\KTH\\KEX---CT-reconstruction\\src\\utils\\polynomials.py:63\u001b[0m, in \u001b[0;36mlinear_upsample\u001b[1;34m(X, factor)\u001b[0m\n\u001b[0;32m     61\u001b[0m dX \u001b[39m/\u001b[39m\u001b[39m=\u001b[39m factor\n\u001b[0;32m     62\u001b[0m vals \u001b[39m=\u001b[39m X\u001b[39m+\u001b[39m\u001b[39m0\u001b[39m \u001b[39m#copy\u001b[39;00m\n\u001b[1;32m---> 63\u001b[0m res \u001b[39m=\u001b[39m torch\u001b[39m.\u001b[39mzeros(pre_shape \u001b[39m+\u001b[39;49m [N\u001b[39m*\u001b[39;49mfactor], dtype\u001b[39m=\u001b[39mX\u001b[39m.\u001b[39mdtype, device\u001b[39m=\u001b[39mX\u001b[39m.\u001b[39mdevice)\n\u001b[0;32m     64\u001b[0m \u001b[39mfor\u001b[39;00m i \u001b[39min\u001b[39;00m \u001b[39mrange\u001b[39m(factor):\n\u001b[0;32m     65\u001b[0m     res[\u001b[39m.\u001b[39m\u001b[39m.\u001b[39m\u001b[39m.\u001b[39m, i\u001b[39m*\u001b[39mN:(i\u001b[39m+\u001b[39m\u001b[39m1\u001b[39m)\u001b[39m*\u001b[39mN] \u001b[39m=\u001b[39m vals\n",
      "\u001b[1;31mTypeError\u001b[0m: can only concatenate tuple (not \"list\") to tuple"
     ]
    }
   ],
   "source": [
    "import torch\n",
    "import sys\n",
    "import os\n",
    "from pathlib import Path\n",
    "ROOT_FOLDER = Path(os.path.abspath(\"../../..\"))\n",
    "SRC = ROOT_FOLDER / \"src\"\n",
    "if not SRC in sys.path:\n",
    "    print(\"adding\", SRC, \"to python path for imports\")\n",
    "    sys.path.append(str(SRC))\n",
    "\n",
    "import odl\n",
    "import odl.contrib.torch as odl_torch\n",
    "import matplotlib.pyplot as plt\n",
    "\n",
    "from geometries.fanbeam_geometry import FlatFanBeamGeometry, DEVICE\n",
    "from utils.polynomials import Legendre, Chebyshev\n",
    "\n",
    "############## SETTINGS\n",
    "beta_size=720\n",
    "u_size=560\n",
    "src_radius = 410.66\n",
    "det_radius = 143.08\n",
    "src_detector = src_radius + det_radius #-10 # 543.74 is wrong?\n",
    "lims = [[-40., 40.], [-40., 40.]]\n",
    "lims_reorder = [[lims[i][j] for i in range(2)] for j in range(2)]\n",
    "lims_ravel = [lims[i][j] for i in range(2) for j in range(2)]\n",
    "shape = [512, 512]\n",
    "partition = (-56,56)\n",
    "############################\n",
    "\n",
    "phantoms = torch.stack(torch.load(\"../../../data/HTC2022/HTCTestPhantomsFull.pt\"))[:5].to(DEVICE)\n",
    "# phantoms = torch.stack(torch.load(\"../../../data/HTC2022/HTCTestPhantomsFull.pt\"))[:5].to(DEVICE)\n",
    "g = FlatFanBeamGeometry(beta_size=beta_size, u_size=u_size, src_origin=src_radius, src_detector=src_detector,\n",
    "                        detector_size=partition[1]-partition[0], xy_minmax_bounds=lims_ravel, reco_shape=shape)\n",
    "sinos = g.project_forward(phantoms)\n",
    "\n",
    "projected = g.project_sinos(sinos, Chebyshev, 50, 10)\n",
    "\n",
    "recons = g.fbp_reconstruct(sinos)\n",
    "recons_projected = g.fbp_reconstruct(projected)"
   ]
  },
  {
   "cell_type": "code",
   "execution_count": null,
   "metadata": {},
   "outputs": [],
   "source": [
    "inspect_ind = 0\n",
    "plt.subplot(121)\n",
    "plt.imshow(sinos[inspect_ind].cpu())\n",
    "plt.colorbar()\n",
    "plt.subplot(122)\n",
    "plt.imshow(projected[inspect_ind].cpu())\n",
    "plt.colorbar()\n",
    "plt.show()\n",
    "plt.subplot(121)\n",
    "plt.imshow(recons[inspect_ind].cpu())\n",
    "plt.colorbar()\n",
    "plt.subplot(122)\n",
    "plt.imshow(recons_projected[inspect_ind].cpu())\n",
    "plt.colorbar()\n",
    "plt.show()"
   ]
  }
 ],
 "metadata": {
  "kernelspec": {
   "display_name": "KEX",
   "language": "python",
   "name": "python3"
  },
  "language_info": {
   "codemirror_mode": {
    "name": "ipython",
    "version": 3
   },
   "file_extension": ".py",
   "mimetype": "text/x-python",
   "name": "python",
   "nbconvert_exporter": "python",
   "pygments_lexer": "ipython3",
   "version": "3.10.9"
  },
  "orig_nbformat": 4
 },
 "nbformat": 4,
 "nbformat_minor": 2
}
