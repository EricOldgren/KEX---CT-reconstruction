{
 "cells": [
  {
   "cell_type": "code",
   "execution_count": 2,
   "metadata": {},
   "outputs": [
    {
     "name": "stdout",
     "output_type": "stream",
     "text": [
      "x [[[1. 2. 3. 4. 5.]\n",
      "  [1. 2. 3. 4. 5.]\n",
      "  [1. 2. 3. 4. 5.]]\n",
      "\n",
      " [[1. 2. 3. 4. 5.]\n",
      "  [1. 2. 3. 4. 5.]\n",
      "  [1. 2. 3. 4. 5.]]]\n",
      "res [[[1. 2. 3. 4. 5.]\n",
      "  [1. 2. 3. 4. 5.]\n",
      "  [1. 2. 3. 4. 5.]]\n",
      "\n",
      " [[1. 2. 3. 4. 5.]\n",
      "  [1. 2. 3. 4. 5.]\n",
      "  [1. 2. 3. 4. 5.]]]\n"
     ]
    }
   ],
   "source": [
    "import scipy\n",
    "import numpy as np\n",
    "x = np.array([[[1.0,2.0,3.0,4.0,5.0]]*3]*2)\n",
    "k = np.array([0.0,0,1.0,0,0])\n",
    "\n",
    "print(\"x\", x)\n",
    "\n",
    "res2 = scipy.ndimage.convolve1d(x, k, axis=-1, mode='constant', cval=0.0) #convolution using scipy straight forward\n",
    "\n",
    "print(\"res\", res2)"
   ]
  },
  {
   "cell_type": "code",
   "execution_count": 3,
   "metadata": {},
   "outputs": [
    {
     "name": "stderr",
     "output_type": "stream",
     "text": [
      "c:\\Users\\salom\\anaconda3\\envs\\KEX\\lib\\site-packages\\tqdm\\auto.py:22: TqdmWarning: IProgress not found. Please update jupyter and ipywidgets. See https://ipywidgets.readthedocs.io/en/stable/user_install.html\n",
      "  from .autonotebook import tqdm as notebook_tqdm\n"
     ]
    },
    {
     "name": "stdout",
     "output_type": "stream",
     "text": [
      "x\n",
      " tensor([[[1., 2., 3., 4., 5.],\n",
      "         [1., 2., 3., 4., 5.],\n",
      "         [1., 2., 3., 4., 5.]],\n",
      "\n",
      "        [[1., 2., 3., 4., 5.],\n",
      "         [1., 2., 3., 4., 5.],\n",
      "         [1., 2., 3., 4., 5.]]])\n",
      "filter\n",
      " tensor([[0., 0., 2., 0., 0.],\n",
      "        [0., 0., 2., 0., 0.],\n",
      "        [0., 0., 2., 0., 0.]])\n",
      "tensor([[[ 2.,  4.,  6.,  8., 10.],\n",
      "         [ 2.,  4.,  6.,  8., 10.],\n",
      "         [ 2.,  4.,  6.,  8., 10.]],\n",
      "\n",
      "        [[ 2.,  4.,  6.,  8., 10.],\n",
      "         [ 2.,  4.,  6.,  8., 10.],\n",
      "         [ 2.,  4.,  6.,  8., 10.]]])\n"
     ]
    }
   ],
   "source": [
    "import torch\n",
    "import torch.nn as nn\n",
    "#convolution using pytorch\n",
    "\n",
    "x = torch.tensor([[[1.0,2,3,4,5]]*3]*2) #batch of 2 2d tensor\n",
    "k = torch.tensor([[0,0,2.0,0,0]]*3, dtype=torch.float32) #2d kernel\n",
    "\n",
    "print(\"x\\n\", x)\n",
    "print(\"filter\\n\", k)\n",
    "\n",
    "res = nn.functional.conv1d(x, k[:, None, :], groups=3, padding=\"same\") #allowing theta dependance in filter\n",
    "\n",
    "print(res)"
   ]
  },
  {
   "cell_type": "code",
   "execution_count": 4,
   "metadata": {},
   "outputs": [
    {
     "name": "stdout",
     "output_type": "stream",
     "text": [
      "x\n",
      " tensor([[[1., 2., 3., 4., 5.],\n",
      "         [1., 2., 3., 4., 5.],\n",
      "         [1., 2., 3., 4., 5.]],\n",
      "\n",
      "        [[1., 2., 3., 4., 5.],\n",
      "         [1., 2., 3., 4., 5.],\n",
      "         [1., 2., 3., 4., 5.]]])\n",
      "torch.Size([2, 3, 5])\n",
      "Result tensor([[[[ 2.,  4.,  6.,  8., 10.],\n",
      "          [ 2.,  4.,  6.,  8., 10.],\n",
      "          [ 2.,  4.,  6.,  8., 10.]]],\n",
      "\n",
      "\n",
      "        [[[ 2.,  4.,  6.,  8., 10.],\n",
      "          [ 2.,  4.,  6.,  8., 10.],\n",
      "          [ 2.,  4.,  6.,  8., 10.]]]])\n"
     ]
    }
   ],
   "source": [
    "x = torch.tensor([\n",
    "    [\n",
    "        [1,2,3,4,5],\n",
    "        [1,2,3,4,5],\n",
    "        [1,2,3,4,5]\n",
    "    ],\n",
    "    [\n",
    "        [1,2,3,4,5],\n",
    "        [1,2,3,4,5],\n",
    "        [1,2,3,4,5]\n",
    "    ]\n",
    "\n",
    "], dtype=torch.float32)\n",
    "print(\"x\\n\",x)\n",
    "print(x.shape)\n",
    "# print(x[None].shape)\n",
    "k = torch.tensor([0,0,2,0,0], dtype=torch.float32) #1d kernel\n",
    "\n",
    "res = nn.functional.conv2d(x[:, None], k[None, None, None], padding=\"same\") # no theta depandance in filter\n",
    "\n",
    "print(\"Result\", res)"
   ]
  },
  {
   "cell_type": "code",
   "execution_count": 5,
   "metadata": {},
   "outputs": [
    {
     "name": "stdout",
     "output_type": "stream",
     "text": [
      "tensor([0.2000, 0.2500, 0.3333, 0.5000, 1.0000])\n",
      "tensor([[0.2000, 0.2500, 0.3333, 0.5000, 1.0000, 1.0000, 0.5000, 0.3333, 0.2500,\n",
      "         0.2000],\n",
      "        [0.0000, 0.0000, 0.0000, 0.0000, 0.0000, 0.0000, 0.0000, 0.0000, 0.0000,\n",
      "         0.0000],\n",
      "        [0.0000, 0.0000, 0.0000, 0.0000, 0.0000, 0.0000, 0.0000, 0.0000, 0.0000,\n",
      "         0.0000],\n",
      "        [0.0000, 0.0000, 0.0000, 0.0000, 0.0000, 0.0000, 0.0000, 0.0000, 0.0000,\n",
      "         0.0000],\n",
      "        [0.0000, 0.0000, 0.0000, 0.0000, 0.0000, 0.0000, 0.0000, 0.0000, 0.0000,\n",
      "         0.0000]])\n"
     ]
    }
   ],
   "source": [
    "test = torch.zeros((5, 10), dtype=torch.float32)\n",
    "rh = torch.tensor([1/i for i in range(1, 6)])\n",
    "lh = torch.flip(rh, (0,))\n",
    "print(lh)\n",
    "\n",
    "test[0, :] = torch.concat([lh, rh])\n",
    "print(test)"
   ]
  },
  {
   "cell_type": "code",
   "execution_count": 6,
   "metadata": {},
   "outputs": [
    {
     "name": "stdout",
     "output_type": "stream",
     "text": [
      "torch.Size([6]) tensor([0, 1, 2, 3, 4, 5])\n",
      "torch.Size([6]) tensor([15.+0.0000j, -3.+5.1962j, -3.+1.7321j, -3.+0.0000j, -3.-1.7321j,\n",
      "        -3.-5.1962j])\n",
      "torch.Size([4]) tensor([15.+0.0000j, -3.+5.1962j, -3.+1.7321j, -3.+0.0000j])\n",
      "torch.Size([6]) tensor([0.0000+0.j, 1.0000+0.j, 2.0000+0.j, 3.0000+0.j, 4.0000+0.j, 5.0000+0.j])\n",
      "torch.Size([6]) tensor([0., 1., 2., 3., 4., 5.])\n"
     ]
    }
   ],
   "source": [
    "x = torch.arange(6)\n",
    "\n",
    "f = torch.fft.fft(x)\n",
    "fr = torch.fft.rfft(x)\n",
    "y = torch.fft.ifft(f)\n",
    "yr = torch.fft.irfft(fr)\n",
    "print(x.shape, x)\n",
    "print(f.shape, f)\n",
    "print(fr.shape, fr)\n",
    "print(y.shape, y)\n",
    "print(yr.shape, yr)\n"
   ]
  },
  {
   "cell_type": "code",
   "execution_count": 7,
   "metadata": {},
   "outputs": [
    {
     "name": "stdout",
     "output_type": "stream",
     "text": [
      "tensor([[ 0.,  1.,  2.,  3.],\n",
      "        [ 5.,  6.,  7.,  8.],\n",
      "        [ 9., 10., 11., 12.]])\n",
      "tensor(4.)\n",
      "tensor([[ 3.],\n",
      "        [ 8.],\n",
      "        [12.]])\n",
      "tensor([[ 0.0000,  0.3333, -0.6667,  1.0000],\n",
      "        [ 0.6250,  0.7500,  0.8750,  1.0000],\n",
      "        [ 0.7500,  0.8333, -0.9167,  1.0000]])\n",
      "torch.Size([12])\n",
      "torch.Size([3, 4])\n"
     ]
    }
   ],
   "source": [
    "from odl.phantom import ellipsoid_phantom, shepp_logan_ellipsoids\n",
    "rad18 = np.deg2rad(18)\n",
    "\n",
    "#  #           value  axisx  axisy     x       y  rotation\n",
    "#     return [[2.00, .6900, .9200, 0.0000, 0.0000, 0],\n",
    "#             [-.98, .6624, .8740, 0.0000, -.0184, 0],\n",
    "#             [-.02, .1100, .3100, 0.2200, 0.0000, -rad18],\n",
    "#             [-.02, .1600, .4100, -.2200, 0.0000, rad18],\n",
    "#             [0.01, .2100, .2500, 0.0000, 0.3500, 0],\n",
    "#             [0.01, .0460, .0460, 0.0000, 0.1000, 0],\n",
    "#             [0.01, .0460, .0460, 0.0000, -.1000, 0],\n",
    "#             [0.01, .0460, .0230, -.0800, -.6050, 0],\n",
    "#             [0.01, .0230, .0230, 0.0000, -.6060, 0],\n",
    "#             [0.01, .0230, .0460, 0.0600, -.6050, 0]]\n",
    "\n",
    "def random_ellipsoid(min_pt, max_pt):\n",
    "    return \n"
   ]
  },
  {
   "cell_type": "code",
   "execution_count": 8,
   "metadata": {},
   "outputs": [
    {
     "name": "stdout",
     "output_type": "stream",
     "text": [
      "torch.Size([100, 300])\n",
      "torch.Size([128, 128])\n",
      "tensor(647.8892) tensor(648.2140) tensor(486.1075)\n",
      "tensor(419762.8125)\n",
      "tensor([])\n"
     ]
    }
   ],
   "source": [
    "from ramlak import BP_layer, t_size, phi_size\n",
    "import matplotlib.pyplot as plt\n",
    "ram_filter = torch.arange(np.ceil(0.5 + 0.5*t_size))\n",
    "\n",
    "ram_filter_tp = torch.fft.irfft(ram_filter)\n",
    "ram_filter_tp = ram_filter_tp.repeat((phi_size, 1))\n",
    "print(ram_filter_tp.shape)\n",
    "\n",
    "space_filter = BP_layer(ram_filter_tp[None])[0]\n",
    "freq_filter_r = torch.fft.fft2(space_filter).real + 648\n",
    "freq_filter_i = torch.fft.fft2(space_filter).imag\n",
    "\n",
    "print(freq_filter_r.shape)\n",
    "print(torch.mean(freq_filter_r), torch.max(freq_filter_r), torch.min(freq_filter_r))\n",
    "print(torch.mean(freq_filter_r**2))\n",
    "\n",
    "print(torch.zeros(0))"
   ]
  },
  {
   "cell_type": "code",
   "execution_count": 34,
   "metadata": {},
   "outputs": [
    {
     "name": "stdout",
     "output_type": "stream",
     "text": [
      "tensor(56187988.)\n"
     ]
    },
    {
     "data": {
      "image/png": "[encoded data removed]",
      "text/plain": [
       "<Figure size 640x480 with 1 Axes>"
      ]
     },
     "metadata": {},
     "output_type": "display_data"
    }
   ],
   "source": [
    "x = torch.arange(50)**2 #+ torch.randn(10)*25\n",
    "z = torch.zeros((50))\n",
    "\n",
    "padded = torch.concat([z, x, z])\n",
    "\n",
    "w = torch.fft.rfft(x)\n",
    "w_padded = torch.concat([w, z])\n",
    "recovered = torch.fft.irfft(w_padded)\n",
    "\n",
    "\n",
    "plt.plot([i for i in range(len(x))], x, label=\"x\")\n",
    "plt.plot([i for i in range(len(recovered))], recovered)\n",
    "plt.legend()\n",
    "\n",
    "print(torch.sum((padded-recovered)**2))"
   ]
  }
 ],
 "metadata": {
  "kernelspec": {
   "display_name": "KEX",
   "language": "python",
   "name": "python3"
  },
  "language_info": {
   "codemirror_mode": {
    "name": "ipython",
    "version": 3
   },
   "file_extension": ".py",
   "mimetype": "text/x-python",
   "name": "python",
   "nbconvert_exporter": "python",
   "pygments_lexer": "ipython3",
   "version": "3.10.9"
  },
  "orig_nbformat": 4,
  "vscode": {
   "interpreter": {
    "hash": "4435d204cbadad4ff1788e4f108574aa2329c91e15f9a32f383edc5b19000632"
   }
  }
 },
 "nbformat": 4,
 "nbformat_minor": 2
}
