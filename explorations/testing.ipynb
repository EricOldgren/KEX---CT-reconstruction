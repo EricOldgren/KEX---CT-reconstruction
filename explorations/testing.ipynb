{
 "cells": [
  {
   "cell_type": "code",
   "execution_count": 5,
   "metadata": {},
   "outputs": [
    {
     "name": "stdout",
     "output_type": "stream",
     "text": [
      "x [[[1. 2. 3. 4. 5.]\n",
      "  [1. 2. 3. 4. 5.]\n",
      "  [1. 2. 3. 4. 5.]]\n",
      "\n",
      " [[1. 2. 3. 4. 5.]\n",
      "  [1. 2. 3. 4. 5.]\n",
      "  [1. 2. 3. 4. 5.]]]\n",
      "res [[[1. 2. 3. 4. 5.]\n",
      "  [1. 2. 3. 4. 5.]\n",
      "  [1. 2. 3. 4. 5.]]\n",
      "\n",
      " [[1. 2. 3. 4. 5.]\n",
      "  [1. 2. 3. 4. 5.]\n",
      "  [1. 2. 3. 4. 5.]]]\n"
     ]
    }
   ],
   "source": [
    "import scipy\n",
    "import numpy as np\n",
    "x = np.array([[[1.0,2.0,3.0,4.0,5.0]]*3]*2)\n",
    "k = np.array([0.0,0,1.0,0,0])\n",
    "\n",
    "print(\"x\", x)\n",
    "\n",
    "res2 = scipy.ndimage.convolve1d(x, k, axis=-1, mode='constant', cval=0.0) #convolution using scipy straight forward\n",
    "\n",
    "print(\"res\", res2)"
   ]
  },
  {
   "cell_type": "code",
   "execution_count": 34,
   "metadata": {},
   "outputs": [
    {
     "name": "stdout",
     "output_type": "stream",
     "text": [
      "x\n",
      " tensor([[[1., 2., 3., 4., 5.],\n",
      "         [1., 2., 3., 4., 5.],\n",
      "         [1., 2., 3., 4., 5.]],\n",
      "\n",
      "        [[1., 2., 3., 4., 5.],\n",
      "         [1., 2., 3., 4., 5.],\n",
      "         [1., 2., 3., 4., 5.]]])\n",
      "filter\n",
      " tensor([[0., 0., 2., 0., 0.],\n",
      "        [0., 0., 2., 0., 0.],\n",
      "        [0., 0., 2., 0., 0.]])\n",
      "tensor([[[ 2.,  4.,  6.,  8., 10.],\n",
      "         [ 2.,  4.,  6.,  8., 10.],\n",
      "         [ 2.,  4.,  6.,  8., 10.]],\n",
      "\n",
      "        [[ 2.,  4.,  6.,  8., 10.],\n",
      "         [ 2.,  4.,  6.,  8., 10.],\n",
      "         [ 2.,  4.,  6.,  8., 10.]]])\n"
     ]
    }
   ],
   "source": [
    "import torch\n",
    "import torch.nn as nn\n",
    "#convolution using pytorch\n",
    "\n",
    "x = torch.tensor([[[1.0,2,3,4,5]]*3]*2) #batch of 2 2d tensor\n",
    "k = torch.tensor([[0,0,2.0,0,0]]*3, dtype=torch.float32) #2d kernel\n",
    "\n",
    "print(\"x\\n\", x)\n",
    "print(\"filter\\n\", k)\n",
    "\n",
    "res = nn.functional.conv1d(x, k[:, None, :], groups=3, padding=\"same\") #allowing theta dependance in filter\n",
    "\n",
    "print(res)"
   ]
  },
  {
   "cell_type": "code",
   "execution_count": 37,
   "metadata": {},
   "outputs": [
    {
     "name": "stdout",
     "output_type": "stream",
     "text": [
      "x\n",
      " tensor([[[1., 2., 3., 4., 5.],\n",
      "         [1., 2., 3., 4., 5.],\n",
      "         [1., 2., 3., 4., 5.]],\n",
      "\n",
      "        [[1., 2., 3., 4., 5.],\n",
      "         [1., 2., 3., 4., 5.],\n",
      "         [1., 2., 3., 4., 5.]]])\n",
      "torch.Size([2, 3, 5])\n",
      "Result tensor([[[[ 2.,  4.,  6.,  8., 10.],\n",
      "          [ 2.,  4.,  6.,  8., 10.],\n",
      "          [ 2.,  4.,  6.,  8., 10.]]],\n",
      "\n",
      "\n",
      "        [[[ 2.,  4.,  6.,  8., 10.],\n",
      "          [ 2.,  4.,  6.,  8., 10.],\n",
      "          [ 2.,  4.,  6.,  8., 10.]]]])\n"
     ]
    }
   ],
   "source": [
    "x = torch.tensor([\n",
    "    [\n",
    "        [1,2,3,4,5],\n",
    "        [1,2,3,4,5],\n",
    "        [1,2,3,4,5]\n",
    "    ],\n",
    "    [\n",
    "        [1,2,3,4,5],\n",
    "        [1,2,3,4,5],\n",
    "        [1,2,3,4,5]\n",
    "    ]\n",
    "\n",
    "], dtype=torch.float32)\n",
    "print(\"x\\n\",x)\n",
    "print(x.shape)\n",
    "# print(x[None].shape)\n",
    "k = torch.tensor([0,0,2,0,0], dtype=torch.float32) #1d kernel\n",
    "\n",
    "res = nn.functional.conv2d(x[:, None], k[None, None, None], padding=\"same\") # no theta depandance in filter\n",
    "#kernel and input need to be batch_size x channels x h x width, we have only one channel!\n",
    "print(\"Result\", res)"
   ]
  },
  {
   "cell_type": "code",
   "execution_count": 46,
   "metadata": {},
   "outputs": [
    {
     "name": "stdout",
     "output_type": "stream",
     "text": [
      "tensor([0.2000, 0.2500, 0.3333, 0.5000, 1.0000])\n",
      "tensor([[0.2000, 0.2500, 0.3333, 0.5000, 1.0000, 1.0000, 0.5000, 0.3333, 0.2500,\n",
      "         0.2000],\n",
      "        [0.0000, 0.0000, 0.0000, 0.0000, 0.0000, 0.0000, 0.0000, 0.0000, 0.0000,\n",
      "         0.0000],\n",
      "        [0.0000, 0.0000, 0.0000, 0.0000, 0.0000, 0.0000, 0.0000, 0.0000, 0.0000,\n",
      "         0.0000],\n",
      "        [0.0000, 0.0000, 0.0000, 0.0000, 0.0000, 0.0000, 0.0000, 0.0000, 0.0000,\n",
      "         0.0000],\n",
      "        [0.0000, 0.0000, 0.0000, 0.0000, 0.0000, 0.0000, 0.0000, 0.0000, 0.0000,\n",
      "         0.0000]])\n"
     ]
    }
   ],
   "source": [
    "test = torch.zeros((5, 10), dtype=torch.float32)\n",
    "rh = torch.tensor([1/i for i in range(1, 6)])\n",
    "lh = torch.flip(rh, (0,))\n",
    "print(lh)\n",
    "\n",
    "test[0, :] = torch.concat([lh, rh])\n",
    "print(test)"
   ]
  }
 ],
 "metadata": {
  "kernelspec": {
   "display_name": "KEX",
   "language": "python",
   "name": "python3"
  },
  "language_info": {
   "codemirror_mode": {
    "name": "ipython",
    "version": 3
   },
   "file_extension": ".py",
   "mimetype": "text/x-python",
   "name": "python",
   "nbconvert_exporter": "python",
   "pygments_lexer": "ipython3",
   "version": "3.10.9"
  },
  "orig_nbformat": 4,
  "vscode": {
   "interpreter": {
    "hash": "4435d204cbadad4ff1788e4f108574aa2329c91e15f9a32f383edc5b19000632"
   }
  }
 },
 "nbformat": 4,
 "nbformat_minor": 2
}
